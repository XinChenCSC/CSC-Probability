{
 "cells": [
  {
   "cell_type": "markdown",
   "metadata": {},
   "source": [
    "## CSC 217: Week One Homework\n",
    "\n",
    "#### This homework is due at **6:00 PM on Wednesday, September 4th**. Any submissions made after that time will receive no credit.\n",
    "\n",
    "Please email me this completed notebook (File -> Download as Notebook) at <eagovino@ccny.cuny.edu>"
   ]
  },
  {
   "cell_type": "markdown",
   "metadata": {
    "collapsed": true
   },
   "source": [
    "#### 1. TIRC Survey\n",
    "\n",
    "Please go to [this link](https://tinyurl.com/y4oh83sh) (open in a new window!!) to fill out an anonymous survey for TIRC. Please print your name below to confirm that you have done this."
   ]
  },
  {
   "cell_type": "code",
   "execution_count": 1,
   "metadata": {},
   "outputs": [
    {
     "name": "stdout",
     "output_type": "stream",
     "text": [
      "Xin Chen\n"
     ]
    }
   ],
   "source": [
    "print('Xin Chen')"
   ]
  },
  {
   "cell_type": "markdown",
   "metadata": {},
   "source": [
    "#### 2. Survey for Me\n",
    "\n",
    "This is an informal survey so that I can get more of a grasp of your preferences, abilities and interests. Please go to [this link](https://docs.google.com/forms/d/e/1FAIpQLScyEc-30-qkJ0gbV5EJ6xbAXmg5_Uh4JHbg-Ch2zUd8FQkosw/viewform?usp=pp_url) (open in a new window!!) to fill out a survey so I can learn more about you. No wrong answers! (Also sorry - some of these questions are repetitive from the above survey but I don't receive that one). Please print your name below to confirm that you have done this."
   ]
  },
  {
   "cell_type": "code",
   "execution_count": 1,
   "metadata": {},
   "outputs": [
    {
     "name": "stdout",
     "output_type": "stream",
     "text": [
      "Xin Chen\n"
     ]
    }
   ],
   "source": [
    "print('Xin Chen')"
   ]
  },
  {
   "cell_type": "markdown",
   "metadata": {},
   "source": [
    "**3. Anaconda Download**\n",
    "\n",
    "Anaconda is an easy way to download Python and all of the packages we'll use in this class - and much more - onto your machine. It is compatible with all major operating systems. While working with Python on your machine as opposed to Binder isn't required for the course, it's heavily encouraged due to the limitations of Binder, particularly its nasty habit of timing out after a pretty short period of time of inactivity. \n",
    "\n",
    "Please download Anaconda from [here](https://www.anaconda.com/download/) (open in a new window!!) and print your name below to confirm that you have downloaded and installed it successfully. Depending on your operating system, you might have to do some Googling to get it to install properly, but it shouldn't be hard. If you can't successfully install it for any reason, please explain why below - otherwise, please print your name."
   ]
  },
  {
   "cell_type": "code",
   "execution_count": 2,
   "metadata": {},
   "outputs": [
    {
     "name": "stdout",
     "output_type": "stream",
     "text": [
      "Xin Chen\n"
     ]
    }
   ],
   "source": [
    "print('Xin Chen')"
   ]
  },
  {
   "cell_type": "markdown",
   "metadata": {},
   "source": [
    "**4. Git Download**\n",
    "\n",
    "We will be using Github in class as a means of downloading updated coursework. Please follow the instructions [here](https://git-scm.com/book/en/v2/Getting-Started-Installing-Git) (open in a new window!!) to download Git on your machine. If you can't successfully install it for any reason, please explain why below - otherwise, please print your name."
   ]
  },
  {
   "cell_type": "code",
   "execution_count": 3,
   "metadata": {},
   "outputs": [
    {
     "name": "stdout",
     "output_type": "stream",
     "text": [
      "Xin Chen\n"
     ]
    }
   ],
   "source": [
    "print('Xin Chen')"
   ]
  },
  {
   "cell_type": "markdown",
   "metadata": {},
   "source": [
    "**5. Python Introduction Tutorial**\n",
    "\n",
    "The tutorial [here](https://www.learnpython.org/) (open in a new window!!) will introduce you to some of the core concepts of Python. Please complete the \"Learn the Basics\" and \"Data Science Tutorials\" sections and confirm that you have completed them by printing your name below.\n",
    "\n",
    "**Please note that the attached tutorial can take up to 2-3 hours to complete. Act accordingly so that your Binder instance doesn't timeout - save and download this file if you need to, and then you can upload it back to the instance later.**"
   ]
  },
  {
   "cell_type": "code",
   "execution_count": 4,
   "metadata": {},
   "outputs": [
    {
     "name": "stdout",
     "output_type": "stream",
     "text": [
      "Xin Chen\n"
     ]
    }
   ],
   "source": [
    "print('Xin Chen')"
   ]
  },
  {
   "cell_type": "markdown",
   "metadata": {},
   "source": [
    "**6. Wikipedia Pages**\n",
    "\n",
    "Today, we successfully scraped the Wikipedia page telling us the number one songs of 2019 with one line of code. Knowing how powerful and easy this - what are at least three Wikipedia pages that you find interesting that you could potentially work with in class? Create a cell below this one and share! (make down the cell is in 'Markdown' mode)"
   ]
  },
  {
   "cell_type": "code",
   "execution_count": null,
   "metadata": {},
   "outputs": [],
   "source": [
    "Highest paid American television stars\n",
    "https://en.wikipedia.org/wiki/List_of_highest_paid_American_television_stars\n",
    "Popular TV episodes\n",
    "https://en.wikipedia.org/wiki/List_of_Popular_(TV_series)_episodes\n",
    "Monthly average wage of American countries \n",
    "https://en.wikipedia.org/wiki/List_of_American_countries_by_monthly_average_wage"
   ]
  },
  {
   "cell_type": "markdown",
   "metadata": {},
   "source": [
    "**7. Next Week's Readings**\n",
    "\n",
    "Please complete the readings listed in the README section of this week's class."
   ]
  }
 ],
 "metadata": {
  "kernelspec": {
   "display_name": "Python 3",
   "language": "python",
   "name": "python3"
  },
  "language_info": {
   "codemirror_mode": {
    "name": "ipython",
    "version": 3
   },
   "file_extension": ".py",
   "mimetype": "text/x-python",
   "name": "python",
   "nbconvert_exporter": "python",
   "pygments_lexer": "ipython3",
   "version": "3.7.3"
  }
 },
 "nbformat": 4,
 "nbformat_minor": 2
}
