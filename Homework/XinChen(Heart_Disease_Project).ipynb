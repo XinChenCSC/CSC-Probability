{
 "cells": [
  {
   "cell_type": "markdown",
   "metadata": {},
   "source": [
    "##  Project #1"
   ]
  },
  {
   "cell_type": "markdown",
   "metadata": {},
   "source": [
    "### An Analysis on the Inspection of Restaurants and other Food Establishments in Chicago from Janguary 1, 2010 to Present"
   ]
  },
  {
   "cell_type": "markdown",
   "metadata": {},
   "source": [
    "<dl>\n",
    "&nbsp;&nbsp;&nbsp;&nbsp;&nbsp;&nbsp;&nbsp;&nbsp;&nbsp;&nbsp;This project analyzes the causes of heart disease through a database of people with heart disease collected by Kaggle <a href=\"https://www.kaggle.com/ronitf/heart-disease-uci\">Heart Disease UCI</a>.  , and uses these data to draw conclusions on the fact and how to prevent people with heart disease from having a greater impact on their behavior\n",
    "</dl>\n",
    "<d9>\n",
    "&nbsp;&nbsp;&nbsp;&nbsp;&nbsp;&nbsp;&nbsp;&nbsp;&nbsp;&nbsp;The dataset that is used in this project is from the <a href=\"https://www.kaggle.com/ronitf/heart-disease-uci\">Heart Disease UCI</a>. but has been imported as a csv file and altered for ease of use. </d9>\n",
    "\n",
    "\n"
   ]
  },
  {
   "cell_type": "markdown",
   "metadata": {},
   "source": [
    "\n",
    "## The specific explanation of each column is as follows\n",
    "1. age\n",
    "2. sex (male = 1 female = 0)\n",
    "3. chest pain type (4 values)\n",
    "4. resting blood pressure (resting blood pressure (in mm Hg on admission to the hospital))\n",
    "5. serum cholestoral in mg/dl\n",
    "6. fasting blood sugar > 120 mg/dl (1 = true 0 = false)\n",
    "7. resting electrocardiographic results (values 0,1,2)\n",
    "8. maximum heart rate achieved\n",
    "9. exercise induced angina (1 = yes 0 = no)\n",
    "10. oldpeak = ST depression induced by exercise relative to rest\n",
    "11. the slope of the peak exercise ST segment\n",
    "12. number of major vessels (0-3) colored by flourosopy\n",
    "13. Thalassemia : 3 = normal; 6 = fixed defect; 7 = reversable defect\n"
   ]
  },
  {
   "cell_type": "code",
   "execution_count": 40,
   "metadata": {},
   "outputs": [],
   "source": [
    "#This block of code is for importing the packages that are utilized in this project.\n",
    "import pandas as pd\n",
    "import numpy as np\n",
    "import seaborn as sns\n",
    "import matplotlib.pyplot as plt\n",
    "import scipy.stats as stats\n",
    "import statsmodels.api as sm\n",
    "import statsmodels.formula.api as smf\n",
    "import os\n",
    "import sys\n",
    "from sklearn.preprocessing import LabelEncoder\n",
    "sys.path.append(os.path.abspath(os.path.join(os.getcwd(), '../utils')))\n",
    "import _utils as utils\n",
    "\n",
    "\n",
    "%matplotlib inline"
   ]
  },
  {
   "cell_type": "markdown",
   "metadata": {},
   "source": [
    "## Dataset"
   ]
  },
  {
   "cell_type": "markdown",
   "metadata": {},
   "source": [
    "This section imports the dataset and provides a brief representation of the general dataset."
   ]
  },
  {
   "cell_type": "code",
   "execution_count": 41,
   "metadata": {},
   "outputs": [
    {
     "data": {
      "text/html": [
       "<div>\n",
       "<style scoped>\n",
       "    .dataframe tbody tr th:only-of-type {\n",
       "        vertical-align: middle;\n",
       "    }\n",
       "\n",
       "    .dataframe tbody tr th {\n",
       "        vertical-align: top;\n",
       "    }\n",
       "\n",
       "    .dataframe thead th {\n",
       "        text-align: right;\n",
       "    }\n",
       "</style>\n",
       "<table border=\"1\" class=\"dataframe\">\n",
       "  <thead>\n",
       "    <tr style=\"text-align: right;\">\n",
       "      <th></th>\n",
       "      <th>age</th>\n",
       "      <th>sex</th>\n",
       "      <th>cp</th>\n",
       "      <th>trestbps</th>\n",
       "      <th>chol</th>\n",
       "      <th>fbs</th>\n",
       "      <th>restecg</th>\n",
       "      <th>thalach</th>\n",
       "      <th>exang</th>\n",
       "      <th>oldpeak</th>\n",
       "      <th>slope</th>\n",
       "      <th>ca</th>\n",
       "      <th>thal</th>\n",
       "      <th>target</th>\n",
       "    </tr>\n",
       "  </thead>\n",
       "  <tbody>\n",
       "    <tr>\n",
       "      <th>0</th>\n",
       "      <td>63</td>\n",
       "      <td>1</td>\n",
       "      <td>3</td>\n",
       "      <td>145</td>\n",
       "      <td>233</td>\n",
       "      <td>1</td>\n",
       "      <td>0</td>\n",
       "      <td>150</td>\n",
       "      <td>0</td>\n",
       "      <td>2.3</td>\n",
       "      <td>0</td>\n",
       "      <td>0</td>\n",
       "      <td>1</td>\n",
       "      <td>1</td>\n",
       "    </tr>\n",
       "    <tr>\n",
       "      <th>1</th>\n",
       "      <td>37</td>\n",
       "      <td>1</td>\n",
       "      <td>2</td>\n",
       "      <td>130</td>\n",
       "      <td>250</td>\n",
       "      <td>0</td>\n",
       "      <td>1</td>\n",
       "      <td>187</td>\n",
       "      <td>0</td>\n",
       "      <td>3.5</td>\n",
       "      <td>0</td>\n",
       "      <td>0</td>\n",
       "      <td>2</td>\n",
       "      <td>1</td>\n",
       "    </tr>\n",
       "    <tr>\n",
       "      <th>2</th>\n",
       "      <td>41</td>\n",
       "      <td>0</td>\n",
       "      <td>1</td>\n",
       "      <td>130</td>\n",
       "      <td>204</td>\n",
       "      <td>0</td>\n",
       "      <td>0</td>\n",
       "      <td>172</td>\n",
       "      <td>0</td>\n",
       "      <td>1.4</td>\n",
       "      <td>2</td>\n",
       "      <td>0</td>\n",
       "      <td>2</td>\n",
       "      <td>1</td>\n",
       "    </tr>\n",
       "    <tr>\n",
       "      <th>3</th>\n",
       "      <td>56</td>\n",
       "      <td>1</td>\n",
       "      <td>1</td>\n",
       "      <td>120</td>\n",
       "      <td>236</td>\n",
       "      <td>0</td>\n",
       "      <td>1</td>\n",
       "      <td>178</td>\n",
       "      <td>0</td>\n",
       "      <td>0.8</td>\n",
       "      <td>2</td>\n",
       "      <td>0</td>\n",
       "      <td>2</td>\n",
       "      <td>1</td>\n",
       "    </tr>\n",
       "    <tr>\n",
       "      <th>4</th>\n",
       "      <td>57</td>\n",
       "      <td>0</td>\n",
       "      <td>0</td>\n",
       "      <td>120</td>\n",
       "      <td>354</td>\n",
       "      <td>0</td>\n",
       "      <td>1</td>\n",
       "      <td>163</td>\n",
       "      <td>1</td>\n",
       "      <td>0.6</td>\n",
       "      <td>2</td>\n",
       "      <td>0</td>\n",
       "      <td>2</td>\n",
       "      <td>1</td>\n",
       "    </tr>\n",
       "  </tbody>\n",
       "</table>\n",
       "</div>"
      ],
      "text/plain": [
       "   age  sex  cp  trestbps  chol  fbs  restecg  thalach  exang  oldpeak  slope  \\\n",
       "0   63    1   3       145   233    1        0      150      0      2.3      0   \n",
       "1   37    1   2       130   250    0        1      187      0      3.5      0   \n",
       "2   41    0   1       130   204    0        0      172      0      1.4      2   \n",
       "3   56    1   1       120   236    0        1      178      0      0.8      2   \n",
       "4   57    0   0       120   354    0        1      163      1      0.6      2   \n",
       "\n",
       "   ca  thal  target  \n",
       "0   0     1       1  \n",
       "1   0     2       1  \n",
       "2   0     2       1  \n",
       "3   0     2       1  \n",
       "4   0     2       1  "
      ]
     },
     "execution_count": 41,
     "metadata": {},
     "output_type": "execute_result"
    }
   ],
   "source": [
    "#This block of code imports both the local csv file and the online dataset.\n",
    "data = pd.read_csv('data.csv')\n",
    "data.head()\n",
    "\n"
   ]
  },
  {
   "cell_type": "markdown",
   "metadata": {},
   "source": [
    "## Age Analysis\n"
   ]
  },
  {
   "cell_type": "code",
   "execution_count": 42,
   "metadata": {},
   "outputs": [
    {
     "data": {
      "text/html": [
       "<div>\n",
       "<style scoped>\n",
       "    .dataframe tbody tr th:only-of-type {\n",
       "        vertical-align: middle;\n",
       "    }\n",
       "\n",
       "    .dataframe tbody tr th {\n",
       "        vertical-align: top;\n",
       "    }\n",
       "\n",
       "    .dataframe thead th {\n",
       "        text-align: right;\n",
       "    }\n",
       "</style>\n",
       "<table border=\"1\" class=\"dataframe\">\n",
       "  <thead>\n",
       "    <tr style=\"text-align: right;\">\n",
       "      <th></th>\n",
       "      <th>age</th>\n",
       "      <th>sex</th>\n",
       "      <th>cp</th>\n",
       "      <th>trestbps</th>\n",
       "      <th>chol</th>\n",
       "      <th>fbs</th>\n",
       "      <th>restecg</th>\n",
       "      <th>thalach</th>\n",
       "      <th>exang</th>\n",
       "      <th>oldpeak</th>\n",
       "      <th>slope</th>\n",
       "      <th>ca</th>\n",
       "      <th>thal</th>\n",
       "      <th>target</th>\n",
       "      <th>Age Group</th>\n",
       "    </tr>\n",
       "  </thead>\n",
       "  <tbody>\n",
       "    <tr>\n",
       "      <th>58</th>\n",
       "      <td>34</td>\n",
       "      <td>1</td>\n",
       "      <td>3</td>\n",
       "      <td>118</td>\n",
       "      <td>182</td>\n",
       "      <td>0</td>\n",
       "      <td>0</td>\n",
       "      <td>174</td>\n",
       "      <td>0</td>\n",
       "      <td>0.0</td>\n",
       "      <td>2</td>\n",
       "      <td>0</td>\n",
       "      <td>2</td>\n",
       "      <td>1</td>\n",
       "      <td>Young</td>\n",
       "    </tr>\n",
       "    <tr>\n",
       "      <th>65</th>\n",
       "      <td>35</td>\n",
       "      <td>0</td>\n",
       "      <td>0</td>\n",
       "      <td>138</td>\n",
       "      <td>183</td>\n",
       "      <td>0</td>\n",
       "      <td>1</td>\n",
       "      <td>182</td>\n",
       "      <td>0</td>\n",
       "      <td>1.4</td>\n",
       "      <td>2</td>\n",
       "      <td>0</td>\n",
       "      <td>2</td>\n",
       "      <td>1</td>\n",
       "      <td>Young</td>\n",
       "    </tr>\n",
       "    <tr>\n",
       "      <th>72</th>\n",
       "      <td>29</td>\n",
       "      <td>1</td>\n",
       "      <td>1</td>\n",
       "      <td>130</td>\n",
       "      <td>204</td>\n",
       "      <td>0</td>\n",
       "      <td>0</td>\n",
       "      <td>202</td>\n",
       "      <td>0</td>\n",
       "      <td>0.0</td>\n",
       "      <td>2</td>\n",
       "      <td>0</td>\n",
       "      <td>2</td>\n",
       "      <td>1</td>\n",
       "      <td>Young</td>\n",
       "    </tr>\n",
       "    <tr>\n",
       "      <th>125</th>\n",
       "      <td>34</td>\n",
       "      <td>0</td>\n",
       "      <td>1</td>\n",
       "      <td>118</td>\n",
       "      <td>210</td>\n",
       "      <td>0</td>\n",
       "      <td>1</td>\n",
       "      <td>192</td>\n",
       "      <td>0</td>\n",
       "      <td>0.7</td>\n",
       "      <td>2</td>\n",
       "      <td>0</td>\n",
       "      <td>2</td>\n",
       "      <td>1</td>\n",
       "      <td>Young</td>\n",
       "    </tr>\n",
       "    <tr>\n",
       "      <th>157</th>\n",
       "      <td>35</td>\n",
       "      <td>1</td>\n",
       "      <td>1</td>\n",
       "      <td>122</td>\n",
       "      <td>192</td>\n",
       "      <td>0</td>\n",
       "      <td>1</td>\n",
       "      <td>174</td>\n",
       "      <td>0</td>\n",
       "      <td>0.0</td>\n",
       "      <td>2</td>\n",
       "      <td>0</td>\n",
       "      <td>2</td>\n",
       "      <td>1</td>\n",
       "      <td>Young</td>\n",
       "    </tr>\n",
       "  </tbody>\n",
       "</table>\n",
       "</div>"
      ],
      "text/plain": [
       "     age  sex  cp  trestbps  chol  fbs  restecg  thalach  exang  oldpeak  \\\n",
       "58    34    1   3       118   182    0        0      174      0      0.0   \n",
       "65    35    0   0       138   183    0        1      182      0      1.4   \n",
       "72    29    1   1       130   204    0        0      202      0      0.0   \n",
       "125   34    0   1       118   210    0        1      192      0      0.7   \n",
       "157   35    1   1       122   192    0        1      174      0      0.0   \n",
       "\n",
       "     slope  ca  thal  target Age Group  \n",
       "58       2   0     2       1     Young  \n",
       "65       2   0     2       1     Young  \n",
       "72       2   0     2       1     Young  \n",
       "125      2   0     2       1     Young  \n",
       "157      2   0     2       1     Young  "
      ]
     },
     "execution_count": 42,
     "metadata": {},
     "output_type": "execute_result"
    }
   ],
   "source": [
    "d_young = data[ (data['age'] >= 18) & (data['age'] <= 35) ]\n",
    "d_middle = data[ (data['age'] >= 36) & (data['age'] <= 55) ]\n",
    "d_old= data[ (data['age'] >= 56)]\n",
    "d_age = d_young.append(d_middle).append(d_old)\n",
    "\n",
    "d_age.loc[d_age.age  <= 35, 'Age Group'] = 'Young' \n",
    "d_age.loc[d_age.age  >= 56, 'Age Group'] = 'Old' \n",
    "d_age.loc[(d_age.age  >= 36) & (d_age.age <= 55), 'Age Group'] = 'Middle Age' \n",
    "\n",
    "d_age.head()"
   ]
  },
  {
   "cell_type": "markdown",
   "metadata": {},
   "source": [
    "### Young Adulthood"
   ]
  },
  {
   "cell_type": "code",
   "execution_count": 43,
   "metadata": {},
   "outputs": [
    {
     "data": {
      "text/plain": [
       "(array([1., 0., 0., 0., 0., 0., 0., 0., 0., 0., 0., 0., 0., 0., 0., 0., 2.,\n",
       "        0., 0., 4.]),\n",
       " array([29. , 29.3, 29.6, 29.9, 30.2, 30.5, 30.8, 31.1, 31.4, 31.7, 32. ,\n",
       "        32.3, 32.6, 32.9, 33.2, 33.5, 33.8, 34.1, 34.4, 34.7, 35. ]),\n",
       " <a list of 20 Patch objects>)"
      ]
     },
     "execution_count": 43,
     "metadata": {},
     "output_type": "execute_result"
    },
    {
     "data": {
      "image/png": "[encoded data removed]",
      "text/plain": [
       "<Figure size 720x720 with 1 Axes>"
      ]
     },
     "metadata": {
      "needs_background": "light"
     },
     "output_type": "display_data"
    }
   ],
   "source": [
    "fig = plt.figure(figsize=(10,10))\n",
    "young = d_age[d_age['Age Group'] == 'Young']\n",
    "plt.hist(young['age'] , bins=20)\n"
   ]
  },
  {
   "cell_type": "markdown",
   "metadata": {},
   "source": [
    "## Here we can see that there is no heart disease patients with age 30 to 33 in the \"Young\" section\n"
   ]
  },
  {
   "cell_type": "code",
   "execution_count": 44,
   "metadata": {
    "scrolled": false
   },
   "outputs": [
    {
     "data": {
      "text/plain": [
       "(array([ 2.,  3.,  4.,  3., 10.,  8.,  8., 11.,  8.,  0.,  7.,  5.,  7.,\n",
       "         5.,  7., 12., 13.,  8., 16.,  8.]),\n",
       " array([37. , 37.9, 38.8, 39.7, 40.6, 41.5, 42.4, 43.3, 44.2, 45.1, 46. ,\n",
       "        46.9, 47.8, 48.7, 49.6, 50.5, 51.4, 52.3, 53.2, 54.1, 55. ]),\n",
       " <a list of 20 Patch objects>)"
      ]
     },
     "execution_count": 44,
     "metadata": {},
     "output_type": "execute_result"
    },
    {
     "data": {
      "image/png": "[encoded data removed]",
      "text/plain": [
       "<Figure size 720x720 with 1 Axes>"
      ]
     },
     "metadata": {
      "needs_background": "light"
     },
     "output_type": "display_data"
    }
   ],
   "source": [
    "fig = plt.figure(figsize=(10,10))\n",
    "middle = d_age[d_age['Age Group'] == 'Middle Age']\n",
    "plt.hist(middle['age'] , bins=20)\n"
   ]
  },
  {
   "cell_type": "markdown",
   "metadata": {},
   "source": [
    "## For the heart disease patients in the section of \"Middle Age\", the data has no pattern. Again, it proves older people have higher chance to get the heart dieases.  "
   ]
  },
  {
   "cell_type": "code",
   "execution_count": 45,
   "metadata": {},
   "outputs": [
    {
     "data": {
      "text/plain": [
       "(array([28., 19., 14., 11.,  8., 11.,  9., 10.,  8.,  7.,  9.,  4.,  3.,\n",
       "         4.,  3.,  0.,  0.,  1.,  0.,  2.]),\n",
       " array([56.  , 57.05, 58.1 , 59.15, 60.2 , 61.25, 62.3 , 63.35, 64.4 ,\n",
       "        65.45, 66.5 , 67.55, 68.6 , 69.65, 70.7 , 71.75, 72.8 , 73.85,\n",
       "        74.9 , 75.95, 77.  ]),\n",
       " <a list of 20 Patch objects>)"
      ]
     },
     "execution_count": 45,
     "metadata": {},
     "output_type": "execute_result"
    },
    {
     "data": {
      "image/png": "[encoded data removed]",
      "text/plain": [
       "<Figure size 720x720 with 1 Axes>"
      ]
     },
     "metadata": {
      "needs_background": "light"
     },
     "output_type": "display_data"
    }
   ],
   "source": [
    "fig = plt.figure(figsize=(10,10))\n",
    "old = d_age[d_age['Age Group'] == 'Old']\n",
    "plt.hist(old['age'] , bins=20)"
   ]
  },
  {
   "cell_type": "markdown",
   "metadata": {},
   "source": [
    "##  For the heart disease patients in the section of \"Old\", people with older age is much less than the people with relatively young age. While, we miss a factor, which people could have chance to be die of old age"
   ]
  },
  {
   "cell_type": "code",
   "execution_count": 46,
   "metadata": {},
   "outputs": [
    {
     "data": {
      "text/plain": [
       "Old           151\n",
       "Middle Age    145\n",
       "Young           7\n",
       "Name: Age Group, dtype: int64"
      ]
     },
     "execution_count": 46,
     "metadata": {},
     "output_type": "execute_result"
    }
   ],
   "source": [
    "d_age['Age Group'].value_counts()"
   ]
  },
  {
   "cell_type": "markdown",
   "metadata": {},
   "source": [
    "## Gender Analysis"
   ]
  },
  {
   "cell_type": "code",
   "execution_count": 47,
   "metadata": {},
   "outputs": [
    {
     "data": {
      "text/html": [
       "<div>\n",
       "<style scoped>\n",
       "    .dataframe tbody tr th:only-of-type {\n",
       "        vertical-align: middle;\n",
       "    }\n",
       "\n",
       "    .dataframe tbody tr th {\n",
       "        vertical-align: top;\n",
       "    }\n",
       "\n",
       "    .dataframe thead th {\n",
       "        text-align: right;\n",
       "    }\n",
       "</style>\n",
       "<table border=\"1\" class=\"dataframe\">\n",
       "  <thead>\n",
       "    <tr style=\"text-align: right;\">\n",
       "      <th></th>\n",
       "      <th>age</th>\n",
       "      <th>sex</th>\n",
       "      <th>cp</th>\n",
       "      <th>trestbps</th>\n",
       "      <th>chol</th>\n",
       "      <th>fbs</th>\n",
       "      <th>restecg</th>\n",
       "      <th>thalach</th>\n",
       "      <th>exang</th>\n",
       "      <th>oldpeak</th>\n",
       "      <th>slope</th>\n",
       "      <th>ca</th>\n",
       "      <th>thal</th>\n",
       "      <th>target</th>\n",
       "    </tr>\n",
       "  </thead>\n",
       "  <tbody>\n",
       "    <tr>\n",
       "      <th>0</th>\n",
       "      <td>63</td>\n",
       "      <td>1</td>\n",
       "      <td>3</td>\n",
       "      <td>145</td>\n",
       "      <td>233</td>\n",
       "      <td>1</td>\n",
       "      <td>0</td>\n",
       "      <td>150</td>\n",
       "      <td>0</td>\n",
       "      <td>2.3</td>\n",
       "      <td>0</td>\n",
       "      <td>0</td>\n",
       "      <td>1</td>\n",
       "      <td>1</td>\n",
       "    </tr>\n",
       "    <tr>\n",
       "      <th>1</th>\n",
       "      <td>37</td>\n",
       "      <td>1</td>\n",
       "      <td>2</td>\n",
       "      <td>130</td>\n",
       "      <td>250</td>\n",
       "      <td>0</td>\n",
       "      <td>1</td>\n",
       "      <td>187</td>\n",
       "      <td>0</td>\n",
       "      <td>3.5</td>\n",
       "      <td>0</td>\n",
       "      <td>0</td>\n",
       "      <td>2</td>\n",
       "      <td>1</td>\n",
       "    </tr>\n",
       "    <tr>\n",
       "      <th>3</th>\n",
       "      <td>56</td>\n",
       "      <td>1</td>\n",
       "      <td>1</td>\n",
       "      <td>120</td>\n",
       "      <td>236</td>\n",
       "      <td>0</td>\n",
       "      <td>1</td>\n",
       "      <td>178</td>\n",
       "      <td>0</td>\n",
       "      <td>0.8</td>\n",
       "      <td>2</td>\n",
       "      <td>0</td>\n",
       "      <td>2</td>\n",
       "      <td>1</td>\n",
       "    </tr>\n",
       "    <tr>\n",
       "      <th>5</th>\n",
       "      <td>57</td>\n",
       "      <td>1</td>\n",
       "      <td>0</td>\n",
       "      <td>140</td>\n",
       "      <td>192</td>\n",
       "      <td>0</td>\n",
       "      <td>1</td>\n",
       "      <td>148</td>\n",
       "      <td>0</td>\n",
       "      <td>0.4</td>\n",
       "      <td>1</td>\n",
       "      <td>0</td>\n",
       "      <td>1</td>\n",
       "      <td>1</td>\n",
       "    </tr>\n",
       "    <tr>\n",
       "      <th>7</th>\n",
       "      <td>44</td>\n",
       "      <td>1</td>\n",
       "      <td>1</td>\n",
       "      <td>120</td>\n",
       "      <td>263</td>\n",
       "      <td>0</td>\n",
       "      <td>1</td>\n",
       "      <td>173</td>\n",
       "      <td>0</td>\n",
       "      <td>0.0</td>\n",
       "      <td>2</td>\n",
       "      <td>0</td>\n",
       "      <td>3</td>\n",
       "      <td>1</td>\n",
       "    </tr>\n",
       "  </tbody>\n",
       "</table>\n",
       "</div>"
      ],
      "text/plain": [
       "   age  sex  cp  trestbps  chol  fbs  restecg  thalach  exang  oldpeak  slope  \\\n",
       "0   63    1   3       145   233    1        0      150      0      2.3      0   \n",
       "1   37    1   2       130   250    0        1      187      0      3.5      0   \n",
       "3   56    1   1       120   236    0        1      178      0      0.8      2   \n",
       "5   57    1   0       140   192    0        1      148      0      0.4      1   \n",
       "7   44    1   1       120   263    0        1      173      0      0.0      2   \n",
       "\n",
       "   ca  thal  target  \n",
       "0   0     1       1  \n",
       "1   0     2       1  \n",
       "3   0     2       1  \n",
       "5   0     1       1  \n",
       "7   0     3       1  "
      ]
     },
     "execution_count": 47,
     "metadata": {},
     "output_type": "execute_result"
    }
   ],
   "source": [
    "d_Male = data[ (data['sex'] == 1 ) ]\n",
    "d_Female = data[ (data['sex'] == 0) ]\n",
    "d_sex = d_Male.append(d_Female)\n",
    "d_sex.head()"
   ]
  },
  {
   "cell_type": "code",
   "execution_count": 48,
   "metadata": {},
   "outputs": [
    {
     "data": {
      "text/plain": [
       "<matplotlib.axes._subplots.AxesSubplot at 0x288ec23aeb8>"
      ]
     },
     "execution_count": 48,
     "metadata": {},
     "output_type": "execute_result"
    },
    {
     "data": {
      "image/png": "[encoded data removed]",
      "text/plain": [
       "<Figure size 720x720 with 1 Axes>"
      ]
     },
     "metadata": {
      "needs_background": "light"
     },
     "output_type": "display_data"
    }
   ],
   "source": [
    "fig = plt.figure(figsize=(10,10))\n",
    "sns.countplot(d_age['sex'])"
   ]
  },
  {
   "cell_type": "code",
   "execution_count": 49,
   "metadata": {},
   "outputs": [
    {
     "data": {
      "text/plain": [
       "1"
      ]
     },
     "execution_count": 49,
     "metadata": {},
     "output_type": "execute_result"
    }
   ],
   "source": [
    "d_sex['sex'].max()\n",
    "# Male patients"
   ]
  },
  {
   "cell_type": "code",
   "execution_count": 50,
   "metadata": {},
   "outputs": [
    {
     "data": {
      "text/plain": [
       "0"
      ]
     },
     "execution_count": 50,
     "metadata": {},
     "output_type": "execute_result"
    }
   ],
   "source": [
    "d_sex['sex'].min()\n",
    "# Female patients"
   ]
  },
  {
   "cell_type": "code",
   "execution_count": 51,
   "metadata": {},
   "outputs": [
    {
     "data": {
      "text/plain": [
       "1    207\n",
       "0     96\n",
       "Name: sex, dtype: int64"
      ]
     },
     "execution_count": 51,
     "metadata": {},
     "output_type": "execute_result"
    }
   ],
   "source": [
    "d_sex['sex'].value_counts()\n",
    "# male patients twice as much ass female patients"
   ]
  },
  {
   "cell_type": "markdown",
   "metadata": {},
   "source": [
    "## Does exercise help patient to increas the max heart rate or cause the chest pain?"
   ]
  },
  {
   "cell_type": "code",
   "execution_count": 52,
   "metadata": {},
   "outputs": [
    {
     "data": {
      "text/plain": [
       "18.469251336898395"
      ]
     },
     "execution_count": 52,
     "metadata": {},
     "output_type": "execute_result"
    }
   ],
   "source": [
    "exercise_angina =d_age[d_age['exang'] == 0]['thalach']\n",
    "exercise_non_angina= d_age[d_age['exang'] == 1]['thalach']\n",
    "x = exercise_angina.mean()\n",
    "y = exercise_non_angina.mean()\n",
    "d = x - y \n",
    "d\n"
   ]
  },
  {
   "cell_type": "markdown",
   "metadata": {},
   "source": [
    "## Null hypothesis: The max heart rate of patients that who have chest pain during the exrcise is same as the patients who do not feel chest pain\n",
    "\n",
    "## Alternate hypothesis: The max heart rate of patients that who have chest pain during the exrcise is different than the patients who do not feel chest pain"
   ]
  },
  {
   "cell_type": "code",
   "execution_count": 53,
   "metadata": {},
   "outputs": [
    {
     "data": {
      "text/plain": [
       "Text(0.5, 0.98, 'Bootstrap Distrubution of Difference Between the Max Heart rate of exercise induced angina  and exercise do not induced angina')"
      ]
     },
     "execution_count": 53,
     "metadata": {},
     "output_type": "execute_result"
    },
    {
     "data": {
      "image/png": "[encoded data removed]",
      "text/plain": [
       "<Figure size 720x720 with 1 Axes>"
      ]
     },
     "metadata": {
      "needs_background": "light"
     },
     "output_type": "display_data"
    }
   ],
   "source": [
    "np.random.seed(42)\n",
    "diff = utils.bootstrap_mean_diff(exercise_angina,exercise_non_angina)\n",
    "fig = plt.figure(figsize = (10,10))\n",
    "plt.hist(diff, bins =50)\n",
    "plt.xlabel('Diff Between the Max Heart rate of exercise induced angina  and exercise do not induced angina ')\n",
    "plt.ylabel('Count')\n",
    "fig.suptitle('Bootstrap Distrubution of Difference Between the Max Heart rate of exercise induced angina  and exercise do not induced angina')"
   ]
  },
  {
   "cell_type": "markdown",
   "metadata": {},
   "source": [
    "   ## Let say the significant level of the test is 0.05, what are the rejection region"
   ]
  },
  {
   "cell_type": "code",
   "execution_count": 54,
   "metadata": {},
   "outputs": [
    {
     "name": "stdout",
     "output_type": "stream",
     "text": [
      "We can reject hypothesis if the value is less than -5.415853386809279\n",
      "We can reject hypothesis if the value is More than 5.641711229946537\n",
      "p-value: 0.0\n"
     ]
    }
   ],
   "source": [
    "\n",
    "print(\"We can reject hypothesis if the value is less than\",np.percentile(diff,2.5))\n",
    "print(\"We can reject hypothesis if the value is More than\",np.percentile(diff,97.5))\n",
    "\n",
    "print( \"p-value:\", (1-( stats.percentileofscore(diff, x-y) *0.01 )  )*2  )\n",
    "\n",
    "\n"
   ]
  },
  {
   "cell_type": "markdown",
   "metadata": {},
   "source": [
    "## We can reject the null hypothesis, since the p-value is less than 0.05. It also claim that there is a big difference between the number of patients who have chest pain and who do not have chest pain"
   ]
  },
  {
   "cell_type": "markdown",
   "metadata": {},
   "source": [
    "## Let's set the new null hypothesis and alternate hypothesis "
   ]
  },
  {
   "cell_type": "markdown",
   "metadata": {},
   "source": [
    "## Null Hypothesis: The max heart rate of patients with chest pain during the exrcise is less than the patients who do not feel chest pain\n",
    "\n",
    "## Alternate hypothesis: The max heart rate of patients with chest pain during the exrcise is more than the patients who do not feel chest pain"
   ]
  },
  {
   "cell_type": "code",
   "execution_count": 55,
   "metadata": {
    "scrolled": true
   },
   "outputs": [
    {
     "name": "stdout",
     "output_type": "stream",
     "text": [
      "The p-value here is  0.0\n",
      "we can reject the null hypothesis\n"
     ]
    }
   ],
   "source": [
    "print(\"The p-value here is \", 1- (stats.percentileofscore(diff, x-y) *0.01 ))\n",
    "print(\"we can reject the null hypothesis\")\n"
   ]
  },
  {
   "cell_type": "markdown",
   "metadata": {},
   "source": [
    "## There is a resarch about the exercise would increase the max heart rate, and the higher max heart rate would have lower risk of heart dieases. However, by analyzing and comparing the patient's max heart rate, the max heart rate of patients with chest pain caused by exercise is higher than that of patients who do not experience chest pain during exercise.\n",
    "## Reference: https://www.health.harvard.edu/heart-health/what-your-heart-rate-is-telling-you"
   ]
  },
  {
   "cell_type": "markdown",
   "metadata": {},
   "source": [
    "## According to data and the Hypothesis Test above, it is not entirely correct to say that a higher max heart rate will help people prevent heart disease effectively. The causes of heart disease can be divided into congenital and acquired. Congenital heart disease cannot be prevented, and acquired heart disease is not simply avoided by increasing the max heart rate through exercise"
   ]
  },
  {
   "cell_type": "markdown",
   "metadata": {},
   "source": [
    "## Does the patients who have high blood pressure and high serum cholestoral at the same time?\n"
   ]
  },
  {
   "cell_type": "code",
   "execution_count": 56,
   "metadata": {},
   "outputs": [
    {
     "data": {
      "text/plain": [
       "Text(0.5, 0.92, 'resting blood pressure vs. serum cholestoral')"
      ]
     },
     "execution_count": 56,
     "metadata": {},
     "output_type": "execute_result"
    },
    {
     "data": {
      "image/png": "[encoded data removed]",
      "text/plain": [
       "<Figure size 720x720 with 1 Axes>"
      ]
     },
     "metadata": {
      "needs_background": "light"
     },
     "output_type": "display_data"
    }
   ],
   "source": [
    "fig= plt.figure(figsize = (10,10))\n",
    "plt.scatter(np.log(d_age['trestbps']), np.log(d_age['chol']))\n",
    "plt.xlabel('resting blood pressure')\n",
    "plt.ylabel('serum cholestoral')\n",
    "fig.suptitle('resting blood pressure vs. serum cholestoral', fontsize=15, y=0.92)\n"
   ]
  },
  {
   "cell_type": "code",
   "execution_count": 59,
   "metadata": {},
   "outputs": [
    {
     "data": {
      "text/plain": [
       "Text(0.5, 0.92, 'Resting Blood Pressure vs. Serum Cholestoral')"
      ]
     },
     "execution_count": 59,
     "metadata": {},
     "output_type": "execute_result"
    },
    {
     "data": {
      "image/png": "[encoded data removed]",
      "text/plain": [
       "<Figure size 720x720 with 1 Axes>"
      ]
     },
     "metadata": {
      "needs_background": "light"
     },
     "output_type": "display_data"
    }
   ],
   "source": [
    "d_age = d_age.reset_index(drop = True)\n",
    "slope, intercept, predictions, residuals = utils.evaluate_linear_relationship(d_age['trestbps'], d_age['chol'])\n",
    "fig= plt.figure(figsize = (10,10))\n",
    "plt.scatter(d_age['trestbps'], d_age['chol'])\n",
    "sorted_order = np.argsort(d_age['trestbps'])\n",
    "plt.plot((d_age['trestbps'])[sorted_order], predictions[sorted_order] )\n",
    "plt.xlabel('resting blood pressure')\n",
    "plt.ylabel('serum cholestoral')\n",
    "fig.suptitle('Resting Blood Pressure vs. Serum Cholestoral', fontsize=15, y=0.92)\n",
    "\n"
   ]
  },
  {
   "cell_type": "code",
   "execution_count": 60,
   "metadata": {},
   "outputs": [
    {
     "data": {
      "text/plain": [
       "Text(0.5, 0.92, 'Residuals')"
      ]
     },
     "execution_count": 60,
     "metadata": {},
     "output_type": "execute_result"
    },
    {
     "data": {
      "image/png": "[encoded data removed]",
      "text/plain": [
       "<Figure size 720x720 with 1 Axes>"
      ]
     },
     "metadata": {
      "needs_background": "light"
     },
     "output_type": "display_data"
    }
   ],
   "source": [
    "fig= plt.figure(figsize = (10,10))\n",
    "plt.scatter(d_age['trestbps'], residuals)\n",
    "plt.plot([0, d_age['trestbps'].max()],[0,0], linestyle = 'dotted')\n",
    "\n",
    "plt.xlabel('resting blood pressure')\n",
    "plt.ylabel('Residuals')\n",
    "fig.suptitle('Residuals', fontsize=15, y=0.92)"
   ]
  },
  {
   "cell_type": "code",
   "execution_count": 61,
   "metadata": {},
   "outputs": [
    {
     "name": "stdout",
     "output_type": "stream",
     "text": [
      "0.01517188515488403\n",
      "The linear relationship between two variable is not strong\n",
      "It suprise me because there should be a relationship between High blood pressure and high cholesterol becuase When the artery becomes hard and narrows due to cholesterol plaque and calcium, the heart must draw more effort to draw blood. As a result, blood pressure will rise abnormally.\n",
      "Reference: https://www.webmd.com/cholesterol-management/guide/diseases-linked-high-cholesterol\n"
     ]
    }
   ],
   "source": [
    "print(np.var(predictions)/np.var(d_age['chol']))\n"
   ]
  },
  {
   "cell_type": "markdown",
   "metadata": {},
   "source": [
    "## The linear relationship between two variable is not strong. It suprise me because there should be a relationship between High blood pressure and high cholesterol becuase When the artery becomes hard and narrows due to cholesterol plaque and calcium, the heart must draw more effort to draw blood. As a result, blood pressure will rise abnormally.\n",
    "\n",
    "## Reference: https://www.webmd.com/cholesterol-management/guide/diseases-linked-high-cholesterol"
   ]
  },
  {
   "cell_type": "markdown",
   "metadata": {},
   "source": [
    "## Does exercise would cause more chest pain?\n"
   ]
  },
  {
   "cell_type": "code",
   "execution_count": 37,
   "metadata": {},
   "outputs": [
    {
     "data": {
      "text/plain": [
       "0    95\n",
       "1    15\n",
       "Name: exang, dtype: int64"
      ]
     },
     "execution_count": 37,
     "metadata": {},
     "output_type": "execute_result"
    },
    {
     "data": {
      "image/png": "[encoded data removed]",
      "text/plain": [
       "<Figure size 720x720 with 1 Axes>"
      ]
     },
     "metadata": {
      "needs_background": "light"
     },
     "output_type": "display_data"
    }
   ],
   "source": [
    "fig= plt.figure(figsize = (10,10))\n",
    "low_cp = d_age[d_age['cp']>= 2]['exang']\n",
    "high_cp = d_age[d_age['cp']< 2]['exang']\n",
    "\n",
    "\n",
    "sns.countplot(low_cp)\n",
    "fig.suptitle('Low chest pain', fontsize=15, y=0.92)\n",
    "low_cp.value_counts()"
   ]
  },
  {
   "cell_type": "code",
   "execution_count": 38,
   "metadata": {},
   "outputs": [
    {
     "data": {
      "text/plain": [
       "0    109\n",
       "1     84\n",
       "Name: exang, dtype: int64"
      ]
     },
     "execution_count": 38,
     "metadata": {},
     "output_type": "execute_result"
    },
    {
     "data": {
      "image/png": "[encoded data removed]",
      "text/plain": [
       "<Figure size 720x720 with 1 Axes>"
      ]
     },
     "metadata": {
      "needs_background": "light"
     },
     "output_type": "display_data"
    }
   ],
   "source": [
    "fig= plt.figure(figsize = (10,10))\n",
    "sns.countplot(high_cp)\n",
    "fig.suptitle('High chest pain', fontsize=15, y=0.92)\n",
    "high_cp.value_counts()"
   ]
  },
  {
   "cell_type": "markdown",
   "metadata": {},
   "source": [
    "## Will high blood sugar and high blood pressure be the cause of heart disease?"
   ]
  },
  {
   "cell_type": "code",
   "execution_count": 39,
   "metadata": {},
   "outputs": [
    {
     "data": {
      "text/plain": [
       "0.31353135313531355"
      ]
     },
     "execution_count": 39,
     "metadata": {},
     "output_type": "execute_result"
    }
   ],
   "source": [
    "data2 = data[(data['trestbps'] >= 140) & ( data['thalach'] >= 100)]\n",
    "data2['sex'].value_counts().sum() / data.shape[0]\n",
    "\n",
    "\n"
   ]
  },
  {
   "cell_type": "markdown",
   "metadata": {},
   "source": [
    "## In the database, the patients with high blood sugar and high blood pressure is only 31%, It doesn't seem to be a direct cause of heart disease。"
   ]
  },
  {
   "cell_type": "markdown",
   "metadata": {},
   "source": [
    "## From the above analysis, we can conclude that there are more male patients with heart disease than women.  From the data point of view, high blood sugar and high blood is not the main cause of heart disease. "
   ]
  },
  {
   "cell_type": "markdown",
   "metadata": {},
   "source": [
    "## Does a higher max heart rate cause more pain for people?"
   ]
  },
  {
   "cell_type": "code",
   "execution_count": 62,
   "metadata": {},
   "outputs": [
    {
     "data": {
      "text/plain": [
       "-6.827950310559004"
      ]
     },
     "execution_count": 62,
     "metadata": {},
     "output_type": "execute_result"
    }
   ],
   "source": [
    "HR_less_angina =d_age[d_age['cp'] <= 2]['thalach']\n",
    "HR_more_angina= d_age[d_age['cp'] > 2]['thalach']\n",
    "x = HR_less_angina.mean()\n",
    "y = HR_more_angina.mean()\n",
    "d = x - y \n",
    "d"
   ]
  },
  {
   "cell_type": "markdown",
   "metadata": {},
   "source": [
    "## Null hypothesis: the max heart rate between patients with less angina same as the patients with high angina\n",
    "\n",
    "## Alternate hypothesis: the max heart rate between patients with less angina different than the patients with high angina"
   ]
  },
  {
   "cell_type": "code",
   "execution_count": 27,
   "metadata": {},
   "outputs": [
    {
     "data": {
      "text/plain": [
       "Text(0.5, 0.98, 'Bootstrap Distrubution of Difference between the max heart rate of patients with less angina and high angina')"
      ]
     },
     "execution_count": 27,
     "metadata": {},
     "output_type": "execute_result"
    },
    {
     "data": {
      "image/png": "[encoded data removed]",
      "text/plain": [
       "<Figure size 720x720 with 1 Axes>"
      ]
     },
     "metadata": {
      "needs_background": "light"
     },
     "output_type": "display_data"
    }
   ],
   "source": [
    "np.random.seed(42)\n",
    "diff = utils.bootstrap_mean_diff(HR_less_angina,HR_more_angina)\n",
    "fig = plt.figure(figsize = (10,10))\n",
    "plt.hist(diff, bins =50)\n",
    "plt.xlabel('Diff Between the max heart rate of patients with less angina and high angina')\n",
    "plt.ylabel('Count')\n",
    "fig.suptitle('Bootstrap Distrubution of Difference between the max heart rate of patients with less angina and high angina')"
   ]
  },
  {
   "cell_type": "markdown",
   "metadata": {},
   "source": [
    "   ## Let say the significant level of the test is 0.05, what are the rejection region"
   ]
  },
  {
   "cell_type": "code",
   "execution_count": 28,
   "metadata": {},
   "outputs": [
    {
     "name": "stdout",
     "output_type": "stream",
     "text": [
      "Mean difference: -6.827950310559004\n",
      "We can reject hypothesis if the value is less than -9.603881987577637\n",
      "We can reject hypothesis if the value is More than 10.015838509316751\n",
      "p-value: 0.16280000000000003\n"
     ]
    }
   ],
   "source": [
    "print(\"Mean difference:\", x -y)\n",
    "print(\"We can reject hypothesis if the value is less than\",np.percentile(diff,2.5))\n",
    "print(\"We can reject hypothesis if the value is More than\",np.percentile(diff,97.5))\n",
    "\n",
    "print( \"p-value:\", (stats.percentileofscore(diff, x-y) *0.01) *2  )\n"
   ]
  },
  {
   "cell_type": "markdown",
   "metadata": {},
   "source": [
    "## We can not reject the null hypothesis because the p-value is not less than 0.05. The max heart rate of patients have no big diffence with the high of low angina"
   ]
  },
  {
   "cell_type": "markdown",
   "metadata": {},
   "source": [
    "## Let's set the new null hypothesis and alternate hypothesis "
   ]
  },
  {
   "cell_type": "markdown",
   "metadata": {},
   "source": [
    "## Null Hypothesis: The max heart rate of patients with less angina is less than the patients with high angina\n",
    "\n",
    "## Alternate Hypothesis: The max heart rate of patients  with less angina is more than the patients with high angina"
   ]
  },
  {
   "cell_type": "code",
   "execution_count": 29,
   "metadata": {},
   "outputs": [
    {
     "name": "stdout",
     "output_type": "stream",
     "text": [
      "The p-value here is  0.08140000000000001\n"
     ]
    }
   ],
   "source": [
    "print(\"The p-value here is \",0.01 * stats.percentileofscore(diff, x-y))\n"
   ]
  },
  {
   "cell_type": "markdown",
   "metadata": {},
   "source": [
    "## We can not reject the null hypothesis because the p-value is not lower than 0.05. It also prove that although the data is more or less biased towards a higher max heart rate, it will cause more chest pain, but its averge value  is not in the rejection region. Therefore, the max heart rate of patients can not decide the level of chest pain of the patients.\n"
   ]
  },
  {
   "cell_type": "markdown",
   "metadata": {},
   "source": [
    "## Conclsion"
   ]
  },
  {
   "cell_type": "markdown",
   "metadata": {},
   "source": [
    "## Through a series of analyses of Heart Disease UCI from Kaggle. We can draw some similarities and differences among people with heart disease. From these analyses, we can also draw some preventive measures that are easily overlooked. For example, most patients with heart disease will appear in Middle adulthood (age from 36-55) and old adulthood (age 56 or more). There are only 7 young adults in this database. And heart disease does not take a good care for men because they are strong. In fact, Men have twice as many heart patients as women. Also, through the hypothesis test, we successfully refuted the connection between max heart rate and heart disease. In this project, we also discussed the relationship between high blood pressure and high serum cholesterol. And it was proved with the graph that they did not have much relationship. At the same time, it also refutes the connection of these two parameters to people with heart disease. We also analyzed from the data that a higher max heart rate does not determine the level of chest pain. We believe that through this project, people with heart disease will have a better understanding of their condition, and they will effectively avoid some wrong behaviors in their lives."
   ]
  }
 ],
 "metadata": {
  "kernelspec": {
   "display_name": "Python 3",
   "language": "python",
   "name": "python3"
  },
  "language_info": {
   "codemirror_mode": {
    "name": "ipython",
    "version": 3
   },
   "file_extension": ".py",
   "mimetype": "text/x-python",
   "name": "python",
   "nbconvert_exporter": "python",
   "pygments_lexer": "ipython3",
   "version": "3.7.3"
  }
 },
 "nbformat": 4,
 "nbformat_minor": 2
}
