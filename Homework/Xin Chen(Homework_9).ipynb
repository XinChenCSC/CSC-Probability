{
 "cells": [
  {
   "cell_type": "code",
   "execution_count": 1,
   "metadata": {},
   "outputs": [],
   "source": [
    "import pandas as pd\n",
    "import matplotlib.pyplot as plt\n",
    "import numpy as np\n",
    "import scipy.stats as stats\n",
    "\n",
    "\n",
    "import json\n",
    "%matplotlib inline"
   ]
  },
  {
   "cell_type": "markdown",
   "metadata": {},
   "source": [
    "First, let's pull a dataframe containing county-level census data. Specifically, we'll be cleaning it up so that we're looking at the percentage of adults with a bachelor's degree (recorded between 2013 and 2017) for each county."
   ]
  },
  {
   "cell_type": "code",
   "execution_count": 2,
   "metadata": {},
   "outputs": [
    {
     "data": {
      "text/html": [
       "<div>\n",
       "<style scoped>\n",
       "    .dataframe tbody tr th:only-of-type {\n",
       "        vertical-align: middle;\n",
       "    }\n",
       "\n",
       "    .dataframe tbody tr th {\n",
       "        vertical-align: top;\n",
       "    }\n",
       "\n",
       "    .dataframe thead th {\n",
       "        text-align: right;\n",
       "    }\n",
       "</style>\n",
       "<table border=\"1\" class=\"dataframe\">\n",
       "  <thead>\n",
       "    <tr style=\"text-align: right;\">\n",
       "      <th></th>\n",
       "      <th>County Name</th>\n",
       "      <th>State</th>\n",
       "      <th>Percent_Bachelors_Degree</th>\n",
       "    </tr>\n",
       "  </thead>\n",
       "  <tbody>\n",
       "    <tr>\n",
       "      <th>0</th>\n",
       "      <td>United States</td>\n",
       "      <td>US</td>\n",
       "      <td>30.9</td>\n",
       "    </tr>\n",
       "    <tr>\n",
       "      <th>1</th>\n",
       "      <td>Alabama</td>\n",
       "      <td>AL</td>\n",
       "      <td>24.5</td>\n",
       "    </tr>\n",
       "    <tr>\n",
       "      <th>2</th>\n",
       "      <td>Autauga County</td>\n",
       "      <td>AL</td>\n",
       "      <td>25.0</td>\n",
       "    </tr>\n",
       "    <tr>\n",
       "      <th>3</th>\n",
       "      <td>Baldwin County</td>\n",
       "      <td>AL</td>\n",
       "      <td>30.7</td>\n",
       "    </tr>\n",
       "    <tr>\n",
       "      <th>4</th>\n",
       "      <td>Barbour County</td>\n",
       "      <td>AL</td>\n",
       "      <td>12.0</td>\n",
       "    </tr>\n",
       "  </tbody>\n",
       "</table>\n",
       "</div>"
      ],
      "text/plain": [
       "      County Name State  Percent_Bachelors_Degree\n",
       "0   United States    US                      30.9\n",
       "1         Alabama    AL                      24.5\n",
       "2  Autauga County    AL                      25.0\n",
       "3  Baldwin County    AL                      30.7\n",
       "4  Barbour County    AL                      12.0"
      ]
     },
     "execution_count": 2,
     "metadata": {},
     "output_type": "execute_result"
    }
   ],
   "source": [
    "education = pd.read_csv('data/Education.csv', encoding='ISO-8859-1', header=0)\n",
    "education = education[['Area name','State', \"Percent of adults with a bachelor's degree or higher, 2013-17\"]]\n",
    "education.columns = ['County Name','State', 'Percent_Bachelors_Degree']\n",
    "education = education.dropna().reset_index(drop=True)\n",
    "education.head()"
   ]
  },
  {
   "cell_type": "markdown",
   "metadata": {},
   "source": [
    "1) Plot a histogram of the percentage of adults with a bachelor's degree or higher. Be sure to properly label the title and axes of the graph."
   ]
  },
  {
   "cell_type": "code",
   "execution_count": 3,
   "metadata": {},
   "outputs": [
    {
     "data": {
      "text/plain": [
       "(array([3.140e+02, 1.348e+03, 8.930e+02, 4.050e+02, 1.740e+02, 8.300e+01,\n",
       "        3.700e+01, 1.600e+01, 1.000e+00, 2.000e+00]),\n",
       " array([ 4.7 , 12.04, 19.38, 26.72, 34.06, 41.4 , 48.74, 56.08, 63.42,\n",
       "        70.76, 78.1 ]),\n",
       " <a list of 10 Patch objects>)"
      ]
     },
     "execution_count": 3,
     "metadata": {},
     "output_type": "execute_result"
    },
    {
     "data": {
      "image/png": "[encoded data removed]",
      "text/plain": [
       "<Figure size 720x720 with 1 Axes>"
      ]
     },
     "metadata": {
      "needs_background": "light"
     },
     "output_type": "display_data"
    }
   ],
   "source": [
    "fig = plt.figure(figsize=(10,10))\n",
    "plt.hist(education[\"Percent_Bachelors_Degree\"])"
   ]
  },
  {
   "cell_type": "markdown",
   "metadata": {},
   "source": [
    "2) Is this distribution positively skewed, negatively skewed, or unskewed? If it's skewed, use a transformation to unskew it. Try a few until you find a result that looks closest to a normal distribution and plot a histogram of that transformation, again with proper labelling of the title and axes."
   ]
  },
  {
   "cell_type": "code",
   "execution_count": 4,
   "metadata": {},
   "outputs": [
    {
     "data": {
      "text/plain": [
       "(array([  3.,   1.,   5.,  20.,  56.,  96., 224., 330., 426., 467., 461.,\n",
       "        351., 272., 232., 137.,  94.,  59.,  29.,   8.,   2.]),\n",
       " array([1.54756251, 1.68808389, 1.82860526, 1.96912664, 2.10964802,\n",
       "        2.2501694 , 2.39069077, 2.53121215, 2.67173353, 2.81225491,\n",
       "        2.95277628, 3.09329766, 3.23381904, 3.37434042, 3.51486179,\n",
       "        3.65538317, 3.79590455, 3.93642592, 4.0769473 , 4.21746868,\n",
       "        4.35799006]),\n",
       " <a list of 20 Patch objects>)"
      ]
     },
     "execution_count": 4,
     "metadata": {},
     "output_type": "execute_result"
    },
    {
     "data": {
      "image/png": "[encoded data removed]",
      "text/plain": [
       "<Figure size 720x720 with 1 Axes>"
      ]
     },
     "metadata": {
      "needs_background": "light"
     },
     "output_type": "display_data"
    }
   ],
   "source": [
    "fig = plt.figure(figsize=(10,10))\n",
    "plt.hist(np.log(education[\"Percent_Bachelors_Degree\"]),bins = 20)"
   ]
  },
  {
   "cell_type": "markdown",
   "metadata": {},
   "source": [
    "Now let's look at this data state-by-state. We'll take the mean value of the percentage of adults with a bachelor degree by state (notice this groupby function, as it may be helpful for aggregating data for your projects)."
   ]
  },
  {
   "cell_type": "code",
   "execution_count": 5,
   "metadata": {},
   "outputs": [
    {
     "data": {
      "text/html": [
       "<div>\n",
       "<style scoped>\n",
       "    .dataframe tbody tr th:only-of-type {\n",
       "        vertical-align: middle;\n",
       "    }\n",
       "\n",
       "    .dataframe tbody tr th {\n",
       "        vertical-align: top;\n",
       "    }\n",
       "\n",
       "    .dataframe thead th {\n",
       "        text-align: right;\n",
       "    }\n",
       "</style>\n",
       "<table border=\"1\" class=\"dataframe\">\n",
       "  <thead>\n",
       "    <tr style=\"text-align: right;\">\n",
       "      <th></th>\n",
       "      <th>State</th>\n",
       "      <th>Percent_Bachelors_Degree</th>\n",
       "    </tr>\n",
       "  </thead>\n",
       "  <tbody>\n",
       "    <tr>\n",
       "      <th>0</th>\n",
       "      <td>AK</td>\n",
       "      <td>22.733333</td>\n",
       "    </tr>\n",
       "    <tr>\n",
       "      <th>1</th>\n",
       "      <td>AL</td>\n",
       "      <td>17.517647</td>\n",
       "    </tr>\n",
       "    <tr>\n",
       "      <th>2</th>\n",
       "      <td>AR</td>\n",
       "      <td>15.853947</td>\n",
       "    </tr>\n",
       "    <tr>\n",
       "      <th>3</th>\n",
       "      <td>AZ</td>\n",
       "      <td>20.381250</td>\n",
       "    </tr>\n",
       "    <tr>\n",
       "      <th>4</th>\n",
       "      <td>CA</td>\n",
       "      <td>26.525424</td>\n",
       "    </tr>\n",
       "  </tbody>\n",
       "</table>\n",
       "</div>"
      ],
      "text/plain": [
       "  State  Percent_Bachelors_Degree\n",
       "0    AK                 22.733333\n",
       "1    AL                 17.517647\n",
       "2    AR                 15.853947\n",
       "3    AZ                 20.381250\n",
       "4    CA                 26.525424"
      ]
     },
     "execution_count": 5,
     "metadata": {},
     "output_type": "execute_result"
    }
   ],
   "source": [
    "state_mean = education.groupby('State')['Percent_Bachelors_Degree'].mean().reset_index()\n",
    "state_mean.head()"
   ]
  },
  {
   "cell_type": "markdown",
   "metadata": {},
   "source": [
    "3) Which state has the highest average percentage of adults with a bachelor's degree? Which state has the lowest? (Hint: Look at the 'Descriptive Statistics Class Notebook' all the way back from Week 2 for an idea of how to query this in the dataframe)\n",
    "\n",
    "If you are not familiar with which abbreviation corresponds to which state, use this for reference: https://www.50states.com/abbreviations.htm"
   ]
  },
  {
   "cell_type": "code",
   "execution_count": 6,
   "metadata": {},
   "outputs": [
    {
     "name": "stdout",
     "output_type": "stream",
     "text": [
      "  State  Percent_Bachelors_Degree\n",
      "7    DC                      56.6\n",
      "  State  Percent_Bachelors_Degree\n",
      "2    AR                 15.853947\n"
     ]
    }
   ],
   "source": [
    "\n",
    "print(state_mean[state_mean['Percent_Bachelors_Degree'] == np.max(state_mean['Percent_Bachelors_Degree'])])\n",
    "print(state_mean[state_mean['Percent_Bachelors_Degree'] ==np.min(state_mean['Percent_Bachelors_Degree'])])"
   ]
  },
  {
   "cell_type": "markdown",
   "metadata": {},
   "source": [
    "4) Plot a boxplot for the percentage of adults with a bachelor degree by state. Are there any outliers? If so, how many? What is the numerical cutoff for an outlier on either side (hint: an outlier is anything greater than 1.5 * the third quantile or anything less than 1.5 * the first quantile)\n",
    "\n",
    "(Hint: Look at the 'Descriptive Statistics Class Notebook' all the way back from Week 2 for an idea of how to calculate and find this)"
   ]
  },
  {
   "cell_type": "code",
   "execution_count": 7,
   "metadata": {},
   "outputs": [
    {
     "name": "stdout",
     "output_type": "stream",
     "text": [
      "There are 3 outlier\n",
      "The Percent_Bachelors_Degree greater than 40.65 and  The Percent_Bachelors_Degree less than 29.769101123595505 are the cutoff for the outlier\n"
     ]
    },
    {
     "data": {
      "text/plain": [
       "{'whiskers': [<matplotlib.lines.Line2D at 0x1c312a1e358>,\n",
       "  <matplotlib.lines.Line2D at 0x1c312a1e1d0>],\n",
       " 'caps': [<matplotlib.lines.Line2D at 0x1c3129f1438>,\n",
       "  <matplotlib.lines.Line2D at 0x1c3129f1780>],\n",
       " 'boxes': [<matplotlib.lines.Line2D at 0x1c312a1e780>],\n",
       " 'medians': [<matplotlib.lines.Line2D at 0x1c3129f1ac8>],\n",
       " 'fliers': [<matplotlib.lines.Line2D at 0x1c3129f1e10>],\n",
       " 'means': []}"
      ]
     },
     "execution_count": 7,
     "metadata": {},
     "output_type": "execute_result"
    },
    {
     "data": {
      "image/png": "[encoded data removed]",
      "text/plain": [
       "<Figure size 432x288 with 1 Axes>"
      ]
     },
     "metadata": {
      "needs_background": "light"
     },
     "output_type": "display_data"
    }
   ],
   "source": [
    "print(\"There are 3 outlier\")\n",
    "print(\"The Percent_Bachelors_Degree greater than\" ,1.5 * state_mean['Percent_Bachelors_Degree'].quantile(0.75) , \"and\", \n",
    "      \" The Percent_Bachelors_Degree less than\",  1.5 * state_mean['Percent_Bachelors_Degree'].quantile(0.25), \"are the cutoff for the outlier\"  )\n",
    "plt.boxplot(x = state_mean['Percent_Bachelors_Degree'])"
   ]
  },
  {
   "cell_type": "markdown",
   "metadata": {},
   "source": [
    "Now, let's read in a dataset that tells us whether a particular state voted for Al Gore or George Bush in 2000."
   ]
  },
  {
   "cell_type": "code",
   "execution_count": 8,
   "metadata": {},
   "outputs": [
    {
     "data": {
      "text/html": [
       "<div>\n",
       "<style scoped>\n",
       "    .dataframe tbody tr th:only-of-type {\n",
       "        vertical-align: middle;\n",
       "    }\n",
       "\n",
       "    .dataframe tbody tr th {\n",
       "        vertical-align: top;\n",
       "    }\n",
       "\n",
       "    .dataframe thead th {\n",
       "        text-align: right;\n",
       "    }\n",
       "</style>\n",
       "<table border=\"1\" class=\"dataframe\">\n",
       "  <thead>\n",
       "    <tr style=\"text-align: right;\">\n",
       "      <th></th>\n",
       "      <th>State</th>\n",
       "      <th>Electoral_Trump</th>\n",
       "      <th>Electoral_Clinton</th>\n",
       "      <th>Popular_Trump</th>\n",
       "      <th>Popular_Clinton</th>\n",
       "      <th>Popular_Others</th>\n",
       "      <th>Total_Popular</th>\n",
       "    </tr>\n",
       "  </thead>\n",
       "  <tbody>\n",
       "    <tr>\n",
       "      <th>0</th>\n",
       "      <td>AL</td>\n",
       "      <td>9</td>\n",
       "      <td>NaN</td>\n",
       "      <td>1318255</td>\n",
       "      <td>729547</td>\n",
       "      <td>75570</td>\n",
       "      <td>2123372</td>\n",
       "    </tr>\n",
       "    <tr>\n",
       "      <th>1</th>\n",
       "      <td>AK</td>\n",
       "      <td>3</td>\n",
       "      <td>NaN</td>\n",
       "      <td>163387</td>\n",
       "      <td>116454</td>\n",
       "      <td>38767</td>\n",
       "      <td>318608</td>\n",
       "    </tr>\n",
       "    <tr>\n",
       "      <th>2</th>\n",
       "      <td>AZ</td>\n",
       "      <td>11</td>\n",
       "      <td>NaN</td>\n",
       "      <td>1252401</td>\n",
       "      <td>1161167</td>\n",
       "      <td>159597</td>\n",
       "      <td>2573165</td>\n",
       "    </tr>\n",
       "    <tr>\n",
       "      <th>3</th>\n",
       "      <td>AR</td>\n",
       "      <td>6</td>\n",
       "      <td>NaN</td>\n",
       "      <td>684872</td>\n",
       "      <td>380494</td>\n",
       "      <td>65310</td>\n",
       "      <td>1130676</td>\n",
       "    </tr>\n",
       "    <tr>\n",
       "      <th>4</th>\n",
       "      <td>CA</td>\n",
       "      <td>NaN</td>\n",
       "      <td>55</td>\n",
       "      <td>4483814</td>\n",
       "      <td>8753792</td>\n",
       "      <td>943998</td>\n",
       "      <td>14181604</td>\n",
       "    </tr>\n",
       "  </tbody>\n",
       "</table>\n",
       "</div>"
      ],
      "text/plain": [
       "  State Electoral_Trump Electoral_Clinton  Popular_Trump  Popular_Clinton  \\\n",
       "0    AL               9               NaN        1318255           729547   \n",
       "1    AK               3               NaN         163387           116454   \n",
       "2    AZ              11               NaN        1252401          1161167   \n",
       "3    AR               6               NaN         684872           380494   \n",
       "4    CA             NaN                55        4483814          8753792   \n",
       "\n",
       "   Popular_Others  Total_Popular  \n",
       "0           75570        2123372  \n",
       "1           38767         318608  \n",
       "2          159597        2573165  \n",
       "3           65310        1130676  \n",
       "4          943998       14181604  "
      ]
     },
     "execution_count": 8,
     "metadata": {},
     "output_type": "execute_result"
    }
   ],
   "source": [
    "votes_2016 = pd.read_excel('data/federalelections2016.xlsx', sheet_name=2, skiprows=3, skipfooter=7)\n",
    "votes_2016.columns = ['State', 'Electoral_Trump', 'Electoral_Clinton', 'Popular_Trump', 'Popular_Clinton', 'Popular_Others', 'Total_Popular']\n",
    "votes_2016.head()"
   ]
  },
  {
   "cell_type": "markdown",
   "metadata": {},
   "source": [
    "And let's make a list of which states voted blue and voted red based on their electoral vote (note that Maine registered 3 votes for Clinton and 1 for Trump - we will count it as a blue state for this exercise)"
   ]
  },
  {
   "cell_type": "code",
   "execution_count": 9,
   "metadata": {},
   "outputs": [],
   "source": [
    "blue_states = list(votes_2016[votes_2016['Electoral_Clinton'].notnull()]['State'])\n",
    "red_states = list(votes_2016[votes_2016['Electoral_Trump'].notnull()]['State'])\n",
    "#Remove Value from List\n",
    "red_states.remove('ME')"
   ]
  },
  {
   "cell_type": "markdown",
   "metadata": {},
   "source": [
    "Finally, we can get dataframes of the percentage of adults with a bachelor's degree for both blue states and red states."
   ]
  },
  {
   "cell_type": "code",
   "execution_count": 10,
   "metadata": {},
   "outputs": [],
   "source": [
    "blue_state_means = state_mean[state_mean['State'].isin(blue_states)]\n",
    "red_state_means = state_mean[state_mean['State'].isin(red_states)]\n"
   ]
  },
  {
   "cell_type": "markdown",
   "metadata": {},
   "source": [
    "5) Plot a boxplot showing blue states and red states (hint: you can plot two separate items in a boxplot by plotting an array, i.e. :  \n",
    "plt.boxplot([df_a['a'], df_b['a'], labels=['a','b'])\n",
    "\n",
    "Do blue states or red states have a higher mean % of bachelor degrees? What are the means of each? What is the mean difference between the two?\n",
    "\n",
    "Do either groups of states have outliers? Which states are outliers?"
   ]
  },
  {
   "cell_type": "code",
   "execution_count": 11,
   "metadata": {},
   "outputs": [
    {
     "name": "stdout",
     "output_type": "stream",
     "text": [
      "mean of blue states: 30.27389596603505\n",
      "mean of red states: 20.320469809727662\n",
      "The mean difference is: 9.953426156307387\n",
      "Blue states have outlier and the outlier is\n",
      "  State  Percent_Bachelors_Degree\n",
      "7    DC                      56.6\n"
     ]
    },
    {
     "data": {
      "text/plain": [
       "{'whiskers': [<matplotlib.lines.Line2D at 0x1c312ae2860>,\n",
       "  <matplotlib.lines.Line2D at 0x1c312ae2780>,\n",
       "  <matplotlib.lines.Line2D at 0x1c313271710>,\n",
       "  <matplotlib.lines.Line2D at 0x1c3132712e8>],\n",
       " 'caps': [<matplotlib.lines.Line2D at 0x1c313289dd8>,\n",
       "  <matplotlib.lines.Line2D at 0x1c313289588>,\n",
       "  <matplotlib.lines.Line2D at 0x1c313271208>,\n",
       "  <matplotlib.lines.Line2D at 0x1c31327aa90>],\n",
       " 'boxes': [<matplotlib.lines.Line2D at 0x1c312ae2cf8>,\n",
       "  <matplotlib.lines.Line2D at 0x1c313271a90>],\n",
       " 'medians': [<matplotlib.lines.Line2D at 0x1c3132891d0>,\n",
       "  <matplotlib.lines.Line2D at 0x1c31327a6d8>],\n",
       " 'fliers': [<matplotlib.lines.Line2D at 0x1c313289080>,\n",
       "  <matplotlib.lines.Line2D at 0x1c31327a2e8>],\n",
       " 'means': []}"
      ]
     },
     "execution_count": 11,
     "metadata": {},
     "output_type": "execute_result"
    },
    {
     "data": {
      "image/png": "[encoded data removed]",
      "text/plain": [
       "<Figure size 432x288 with 1 Axes>"
      ]
     },
     "metadata": {
      "needs_background": "light"
     },
     "output_type": "display_data"
    }
   ],
   "source": [
    "X = np.mean(blue_state_means['Percent_Bachelors_Degree'])\n",
    "Y = np.mean(red_state_means['Percent_Bachelors_Degree'])\n",
    "print(\"mean of blue states:\", X)\n",
    "print(\"mean of red states:\", Y)\n",
    "print(\"The mean difference is:\", X - Y)\n",
    "print(\"Blue states have outlier and the outlier is\")\n",
    "print(blue_state_means[blue_state_means['Percent_Bachelors_Degree'] == np.max(blue_state_means['Percent_Bachelors_Degree'])] )\n",
    "plt.boxplot([blue_state_means['Percent_Bachelors_Degree'], red_state_means['Percent_Bachelors_Degree']], \n",
    "           labels= ['Percent_Bachelors_Degree','Percent_Bachelors_Degree'])\n",
    "\n"
   ]
  },
  {
   "cell_type": "markdown",
   "metadata": {},
   "source": [
    "6) Using the pooled variance function below, find the pooled variance and pooled standard deviation for the two groups of states."
   ]
  },
  {
   "cell_type": "code",
   "execution_count": 12,
   "metadata": {},
   "outputs": [],
   "source": [
    "def custom_pooled_variance(a, b):\n",
    "    return ((((len(a) - 1) * np.var(a, ddof=1)) + ((len(b) - 1) * np.var(b, ddof=1))) / (len(a) + len(b) - 2)) * ((1/len(a)) + 1/len(b))"
   ]
  },
  {
   "cell_type": "code",
   "execution_count": 13,
   "metadata": {},
   "outputs": [
    {
     "name": "stdout",
     "output_type": "stream",
     "text": [
      "Pooled variance: Percent_Bachelors_Degree    3.0\n",
      "dtype: float64 2\n",
      "pooled standard deviation Percent_Bachelors_Degree    1.65\n",
      "dtype: float64\n"
     ]
    }
   ],
   "source": [
    "pool_var = custom_pooled_variance(blue_state_means,red_state_means)\n",
    "print('Pooled variance:', np.round(pool_var),2)\n",
    "print('pooled standard deviation', np.round(np.sqrt(pool_var),2))"
   ]
  },
  {
   "cell_type": "markdown",
   "metadata": {},
   "source": [
    "7) Say that we want to see if the average percentage of adults with bachelor's degrees is higher in blue states than in red states. In this case, what is our null hypothesis and our alternate hypothesis?"
   ]
  },
  {
   "cell_type": "code",
   "execution_count": 14,
   "metadata": {},
   "outputs": [
    {
     "name": "stdout",
     "output_type": "stream",
     "text": [
      "Null Hypothesis is the average percentage of adults with bachelor's degrees of red states is higher than in blue states \n",
      "Alternate Hypothesis is the average percentage of adults with bachelor's degrees of blue states is higher than in red states\n"
     ]
    }
   ],
   "source": [
    "print(\"Null Hypothesis is the average percentage of adults with bachelor's degrees of red states is higher than in blue states \")\n",
    "print(\"Alternate Hypothesis is the average percentage of adults with bachelor's degrees of blue states is higher than in red states\")\n",
    "\n"
   ]
  },
  {
   "cell_type": "markdown",
   "metadata": {},
   "source": [
    "8) Find the proper parameters for the T-distribution to test our null hypothesis. What is the mean, standard deviation, and degrees of freedom of our null hypothesis?"
   ]
  },
  {
   "cell_type": "code",
   "execution_count": 21,
   "metadata": {},
   "outputs": [
    {
     "data": {
      "text/plain": [
       "49"
      ]
     },
     "execution_count": 21,
     "metadata": {},
     "output_type": "execute_result"
    }
   ],
   "source": [
    "len(blue_state_means['Percent_Bachelors_Degree']) -1 + len(red_state_means['Percent_Bachelors_Degree']) -1\n"
   ]
  },
  {
   "cell_type": "markdown",
   "metadata": {},
   "source": [
    "Mean: 0  \n",
    "Standard Deviation: 1.65  \n",
    "Degrees of Freedom: 49  "
   ]
  },
  {
   "cell_type": "markdown",
   "metadata": {},
   "source": [
    "9) At a signifiance level of 0.05, what are the rejection region (s?) of our distribution? Make a plot highlighting these rejection region (s?) in red."
   ]
  },
  {
   "cell_type": "code",
   "execution_count": 16,
   "metadata": {},
   "outputs": [
    {
     "name": "stdout",
     "output_type": "stream",
     "text": [
      "Rejection Region: Greater than 2.77\n"
     ]
    },
    {
     "data": {
      "text/plain": [
       "Text(0.5, 0.92, 'T-Distribution of Difference Between Samples')"
      ]
     },
     "execution_count": 16,
     "metadata": {},
     "output_type": "execute_result"
    },
    {
     "data": {
      "image/png": "[encoded data removed]",
      "text/plain": [
       "<Figure size 720x720 with 1 Axes>"
      ]
     },
     "metadata": {
      "needs_background": "light"
     },
     "output_type": "display_data"
    }
   ],
   "source": [
    "dist = stats.t(loc = 0, scale = 1.65 , df = 49)\n",
    "\n",
    "print('Rejection Region: Greater than', np.round(dist.ppf(0.95), 2))\n",
    "fig = plt.figure(figsize=(10,10))\n",
    "x = np.linspace(dist.ppf(0.0001), dist.ppf(0.9999), 100)\n",
    "plt.plot(x, dist.pdf(x))\n",
    "\n",
    "\n",
    "plt.plot([dist.ppf(0.975), dist.ppf(0.975)],[0, dist.pdf(dist.ppf(0.975))], linestyle='dotted', color='#1f77b4')\n",
    "X_fill = np.linspace(dist.ppf(0.975), dist.ppf(0.9999))\n",
    "Y = dist.pdf(X_fill)\n",
    "plt.fill_between(X_fill, 0, Y, facecolor='red')\n",
    "plt.ylim(bottom=0)\n",
    "plt.xlabel('Difference in Sample Means')\n",
    "plt.ylabel('Probability Density Function')\n",
    "fig.suptitle('T-Distribution of Difference Between Samples', fontsize=15, y=0.92)"
   ]
  },
  {
   "cell_type": "markdown",
   "metadata": {},
   "source": [
    "10) At a significance level of 0.05, can we reject the null hypothesis? What is the p-value of our observed difference?"
   ]
  },
  {
   "cell_type": "code",
   "execution_count": 17,
   "metadata": {},
   "outputs": [
    {
     "name": "stdout",
     "output_type": "stream",
     "text": [
      "9.953426156307387\n",
      "1.0432141472893619e-07\n"
     ]
    }
   ],
   "source": [
    "print(np.mean(blue_state_means['Percent_Bachelors_Degree']) - np.mean(red_state_means['Percent_Bachelors_Degree']))\n",
    "print((1 - dist.cdf(np.mean(blue_state_means['Percent_Bachelors_Degree']) - np.mean(red_state_means['Percent_Bachelors_Degree'])))) \n"
   ]
  },
  {
   "cell_type": "markdown",
   "metadata": {},
   "source": [
    "Yes, we can reject the null hypothesis, as the mean difference of 9.95 is much higher than the rejection cutoff of 2.76 and has a p-value of close to 0."
   ]
  },
  {
   "cell_type": "markdown",
   "metadata": {},
   "source": [
    "BONUS: 11) Now run a boostrapping example using 10,000 simulations. Use np.random.seed(42) to ensure consistency if you run again. Concatenate the blue states and red states, shuffle them, and then break out new blue states and red states, similar to what we did last week in class. Record the difference between the blue states and red states.\n",
    "\n",
    "Plot a histogram of the 10,000 differences recorded. What is the average difference?"
   ]
  },
  {
   "cell_type": "code",
   "execution_count": 18,
   "metadata": {},
   "outputs": [
    {
     "data": {
      "text/plain": [
       "Text(0.5, 0.92, 'Bootstrap Distribution of Difference Between Samples')"
      ]
     },
     "execution_count": 18,
     "metadata": {},
     "output_type": "execute_result"
    },
    {
     "data": {
      "image/png": "[encoded data removed]",
      "text/plain": [
       "<Figure size 720x720 with 1 Axes>"
      ]
     },
     "metadata": {
      "needs_background": "light"
     },
     "output_type": "display_data"
    }
   ],
   "source": [
    "np.random.seed(42)\n",
    "diff = []\n",
    "for i in range(10000):\n",
    "    total = list(blue_state_means['Percent_Bachelors_Degree']) + list(red_state_means['Percent_Bachelors_Degree'])\n",
    "    np.random.shuffle(total)\n",
    "    new_a = total[:len(blue_state_means['Percent_Bachelors_Degree'])]\n",
    "    new_b = total[len(red_state_means['Percent_Bachelors_Degree']):]\n",
    "    diff.append(np.mean(new_a) - np.mean(new_b))\n",
    "fig = plt.figure(figsize=(10,10))\n",
    "plt.hist(diff, bins=50)\n",
    "plt.xlabel('Diff Between blue states and red states')\n",
    "plt.ylabel('Count')\n",
    "fig.suptitle('Bootstrap Distribution of Difference Between Samples', fontsize=15, y=0.92)"
   ]
  },
  {
   "cell_type": "markdown",
   "metadata": {},
   "source": [
    "BONUS: 12) At a signifiance level of 0.05, what are the rejection region (s?) of our distribution?"
   ]
  },
  {
   "cell_type": "code",
   "execution_count": 19,
   "metadata": {},
   "outputs": [
    {
     "data": {
      "text/plain": [
       "3.7960071450521875"
      ]
     },
     "execution_count": 19,
     "metadata": {},
     "output_type": "execute_result"
    }
   ],
   "source": [
    "np.percentile(diff, 95)"
   ]
  },
  {
   "cell_type": "markdown",
   "metadata": {},
   "source": [
    "BONUS: 13) At a significance level of 0.05, can we reject the null hypothesis? What is the p-value of our observed difference?"
   ]
  },
  {
   "cell_type": "code",
   "execution_count": 20,
   "metadata": {},
   "outputs": [
    {
     "name": "stdout",
     "output_type": "stream",
     "text": [
      "Mean difference: 9.953426156307387\n",
      "p value: 0.0\n",
      "Yes, we can rejct the null hypothesis\n"
     ]
    }
   ],
   "source": [
    "print(\"Mean difference:\",np.mean(blue_state_means['Percent_Bachelors_Degree']) - np.mean(red_state_means['Percent_Bachelors_Degree']))\n",
    "print(\"p value:\",1 - (0.01 * stats.percentileofscore(diff, np.mean(blue_state_means['Percent_Bachelors_Degree']) - np.mean(red_state_means['Percent_Bachelors_Degree']))))\n",
    "print(\"Yes, we can rejct the null hypothesis\")"
   ]
  },
  {
   "cell_type": "code",
   "execution_count": null,
   "metadata": {},
   "outputs": [],
   "source": []
  }
 ],
 "metadata": {
  "kernelspec": {
   "display_name": "Python 3",
   "language": "python",
   "name": "python3"
  },
  "language_info": {
   "codemirror_mode": {
    "name": "ipython",
    "version": 3
   },
   "file_extension": ".py",
   "mimetype": "text/x-python",
   "name": "python",
   "nbconvert_exporter": "python",
   "pygments_lexer": "ipython3",
   "version": "3.7.3"
  }
 },
 "nbformat": 4,
 "nbformat_minor": 2
}
