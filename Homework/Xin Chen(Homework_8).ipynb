{
 "cells": [
  {
   "cell_type": "code",
   "execution_count": 1,
   "metadata": {},
   "outputs": [],
   "source": [
    "import pandas as pd\n",
    "import numpy as np\n",
    "import scipy.stats as stats\n",
    "import matplotlib.pyplot as plt\n",
    "import json\n",
    "%matplotlib inline"
   ]
  },
  {
   "cell_type": "markdown",
   "metadata": {},
   "source": [
    "There are two leagues in Major League Baseball, the **American League** and the **National League**. Some people have the assumption that the AL has better starting pitching than the NL.\n",
    "\n",
    "We can use *Wins Above Replacement* (shortened to WAR), a summary statistic for pitchers (and batters) in baseball, to assert whether this claim is true or not. The higher the WAR for a given pitcher, the better.\n",
    "\n",
    "Below we'll load in a JSON file that has the WAR statistic for 455 pitchers in the AL and 425 pitchers in the NL."
   ]
  },
  {
   "cell_type": "code",
   "execution_count": 2,
   "metadata": {},
   "outputs": [],
   "source": [
    "with open('data/baseball_WARs.json', 'r') as fp:\n",
    "    baseball_WARs = json.load(fp)"
   ]
  },
  {
   "cell_type": "markdown",
   "metadata": {},
   "source": [
    "We can load in the JSON file into a dictionary that has two lists, named NL and AL. Each list contains all of the WAR values for all of the pitchers in either league in the 2019 season."
   ]
  },
  {
   "cell_type": "code",
   "execution_count": 3,
   "metadata": {},
   "outputs": [
    {
     "name": "stdout",
     "output_type": "stream",
     "text": [
      "AL\n",
      "NL\n"
     ]
    },
    {
     "data": {
      "text/plain": [
       "[None, None]"
      ]
     },
     "execution_count": 3,
     "metadata": {},
     "output_type": "execute_result"
    }
   ],
   "source": [
    "[print(i) for i in baseball_WARs]"
   ]
  },
  {
   "cell_type": "markdown",
   "metadata": {},
   "source": [
    "1. Show the histograms and boxplots for each of the leagues. What do each of the distributions look like? Are there outliers? Can we assume each of the distributions is normal?"
   ]
  },
  {
   "cell_type": "code",
   "execution_count": 4,
   "metadata": {},
   "outputs": [
    {
     "name": "stdout",
     "output_type": "stream",
     "text": [
      "(array([  1.,  64., 271.,  64.,  35.,  10.,   2.,   3.,   1.,   4.]), array([-2.4 , -1.38, -0.36,  0.66,  1.68,  2.7 ,  3.72,  4.74,  5.76,\n",
      "        6.78,  7.8 ]), <a list of 10 Patch objects>)\n"
     ]
    },
    {
     "data": {
      "image/png": "[encoded data removed]",
      "text/plain": [
       "<Figure size 432x288 with 1 Axes>"
      ]
     },
     "metadata": {
      "needs_background": "light"
     },
     "output_type": "display_data"
    }
   ],
   "source": [
    "print(plt.hist(baseball_WARs['AL']))\n",
    "\n"
   ]
  },
  {
   "cell_type": "code",
   "execution_count": 5,
   "metadata": {},
   "outputs": [
    {
     "name": "stdout",
     "output_type": "stream",
     "text": [
      "(array([  4.,  74., 217.,  74.,  24.,  15.,   7.,   3.,   6.,   1.]), array([-2.3 , -1.34, -0.38,  0.58,  1.54,  2.5 ,  3.46,  4.42,  5.38,\n",
      "        6.34,  7.3 ]), <a list of 10 Patch objects>)\n"
     ]
    },
    {
     "data": {
      "image/png": "[encoded data removed]",
      "text/plain": [
       "<Figure size 432x288 with 1 Axes>"
      ]
     },
     "metadata": {
      "needs_background": "light"
     },
     "output_type": "display_data"
    }
   ],
   "source": [
    "print(plt.hist(baseball_WARs['NL']))"
   ]
  },
  {
   "cell_type": "code",
   "execution_count": 6,
   "metadata": {},
   "outputs": [
    {
     "data": {
      "text/plain": [
       "{'whiskers': [<matplotlib.lines.Line2D at 0x1ad24d6bf60>,\n",
       "  <matplotlib.lines.Line2D at 0x1ad24d6bfd0>],\n",
       " 'caps': [<matplotlib.lines.Line2D at 0x1ad24d7a6a0>,\n",
       "  <matplotlib.lines.Line2D at 0x1ad24d7a9e8>],\n",
       " 'boxes': [<matplotlib.lines.Line2D at 0x1ad24d6bb70>],\n",
       " 'medians': [<matplotlib.lines.Line2D at 0x1ad24d7ad30>],\n",
       " 'fliers': [<matplotlib.lines.Line2D at 0x1ad24d7ae10>],\n",
       " 'means': []}"
      ]
     },
     "execution_count": 6,
     "metadata": {},
     "output_type": "execute_result"
    },
    {
     "data": {
      "image/png": "[encoded data removed]",
      "text/plain": [
       "<Figure size 432x288 with 1 Axes>"
      ]
     },
     "metadata": {
      "needs_background": "light"
     },
     "output_type": "display_data"
    }
   ],
   "source": [
    "plt.boxplot(baseball_WARs['AL'])"
   ]
  },
  {
   "cell_type": "code",
   "execution_count": 7,
   "metadata": {},
   "outputs": [
    {
     "data": {
      "text/plain": [
       "{'whiskers': [<matplotlib.lines.Line2D at 0x1ad24dd7d30>,\n",
       "  <matplotlib.lines.Line2D at 0x1ad24da5320>],\n",
       " 'caps': [<matplotlib.lines.Line2D at 0x1ad24de3470>,\n",
       "  <matplotlib.lines.Line2D at 0x1ad24de37b8>],\n",
       " 'boxes': [<matplotlib.lines.Line2D at 0x1ad24dd7940>],\n",
       " 'medians': [<matplotlib.lines.Line2D at 0x1ad24de3b00>],\n",
       " 'fliers': [<matplotlib.lines.Line2D at 0x1ad24de3e48>],\n",
       " 'means': []}"
      ]
     },
     "execution_count": 7,
     "metadata": {},
     "output_type": "execute_result"
    },
    {
     "data": {
      "image/png": "[encoded data removed]",
      "text/plain": [
       "<Figure size 432x288 with 1 Axes>"
      ]
     },
     "metadata": {
      "needs_background": "light"
     },
     "output_type": "display_data"
    }
   ],
   "source": [
    "plt.boxplot(baseball_WARs['NL'])"
   ]
  },
  {
   "cell_type": "markdown",
   "metadata": {},
   "source": [
    "2. Say that we want to first see if the average WAR in each of the leagues is the same, or are *different* from each other. In this case, what is our null hypothesis and our alternate hypothesis?"
   ]
  },
  {
   "cell_type": "code",
   "execution_count": 23,
   "metadata": {},
   "outputs": [
    {
     "name": "stdout",
     "output_type": "stream",
     "text": [
      "0.47296703296703296\n",
      "0.4595294117647059\n",
      "Null hypotheses: AL has better pitching than the NL\n",
      "Alternate hypotheses:  AL has same pitching as the NL\n"
     ]
    }
   ],
   "source": [
    "print(np.mean(baseball_WARs['AL']))\n",
    "print(np.mean(baseball_WARs['NL']))\n",
    "print(\"Null hypotheses: AL has better pitching than the NL\")\n",
    "print(\"Alternate hypotheses:  AL has same pitching as the NL\")"
   ]
  },
  {
   "cell_type": "markdown",
   "metadata": {},
   "source": [
    "3. Using the pooled variance function below, find the pooled variance and pooled standard deviation of the two leagues."
   ]
  },
  {
   "cell_type": "code",
   "execution_count": 9,
   "metadata": {},
   "outputs": [
    {
     "name": "stdout",
     "output_type": "stream",
     "text": [
      "Var = 0.006954559017696421 Std = 0.08339399869113137\n"
     ]
    }
   ],
   "source": [
    "def custom_pooled_variance(a, b):\n",
    "    return ((((len(a) - 1) * np.var(a, ddof=1)) + ((len(b) - 1) * np.var(b, ddof=1))) / (len(a) + len(b) - 2)) * ((1/len(a)) + 1/len(b))\n",
    "\n",
    "pool_var = custom_pooled_variance(baseball_WARs['AL'], baseball_WARs['NL'])\n",
    "print(\"Var =\",pool_var, \"Std =\", np.sqrt(pool_var))"
   ]
  },
  {
   "cell_type": "markdown",
   "metadata": {},
   "source": [
    "4. Find the proper parameters for the T-distribution to test our null hypothesis. What is the mean, standard deviation, and degrees of freedom of our null hypothesis?"
   ]
  },
  {
   "cell_type": "code",
   "execution_count": 10,
   "metadata": {},
   "outputs": [],
   "source": [
    "dist = stats.t(loc =0, scale = np.sqrt(pool_var), df = (len(baseball_WARs['AL'])+len(baseball_WARs['NL']) -2))\n"
   ]
  },
  {
   "cell_type": "markdown",
   "metadata": {},
   "source": [
    "5. At a signifiance level of 0.05, what are the rejection regions of our distribution? Make a plot highlighting these rejection regions in red."
   ]
  },
  {
   "cell_type": "code",
   "execution_count": 21,
   "metadata": {
    "scrolled": true
   },
   "outputs": [
    {
     "data": {
      "text/plain": [
       "Text(0.5, 0.92, 'T-Distribution of Difference Between Samples')"
      ]
     },
     "execution_count": 21,
     "metadata": {},
     "output_type": "execute_result"
    },
    {
     "data": {
      "image/png": "[encoded data removed]",
      "text/plain": [
       "<Figure size 720x720 with 1 Axes>"
      ]
     },
     "metadata": {
      "needs_background": "light"
     },
     "output_type": "display_data"
    }
   ],
   "source": [
    "\n",
    "fig = plt.figure(figsize = (10,10))\n",
    "x = np.linspace(dist.ppf(0.0001),dist.ppf(0.999),100)\n",
    "plt.plot(x,dist.pdf(x))\n",
    "plt.plot([dist.ppf(0.025),dist.ppf(0.025)],[0,dist.pdf(dist.ppf(0.025))], linestyle='dotted', color='#1f77b4')\n",
    "X_fill = np.linspace(dist.ppf(0.0001),dist.ppf(0.025))\n",
    "Y = dist.pdf(X_fill)\n",
    "plt.fill_between(X_fill,0,Y,facecolor='red')\n",
    "\n",
    "plt.plot([dist.ppf(0.975), dist.ppf(0.975)],[0, dist.pdf(dist.ppf(0.975))], linestyle='dotted', color='#1f77b4')\n",
    "#Fill in Region between 97.5th and 100h percentile here\n",
    "X_fill = np.linspace(dist.ppf(0.975), dist.ppf(0.9999))\n",
    "Y = dist.pdf(X_fill)\n",
    "plt.fill_between(X_fill, 0, Y, facecolor='red')\n",
    "plt.ylim(bottom = 0)\n",
    "plt.xlabel(\"Difference in Sample Means\")\n",
    "plt.ylabel('Probability Density Function')\n",
    "fig.suptitle('T-Distribution of Difference Between Samples', fontsize = 15 , y= 0.92)\n",
    "\n",
    "\n"
   ]
  },
  {
   "cell_type": "markdown",
   "metadata": {},
   "source": [
    "6. What is the mean difference in WAR between the two leagues (compute AL minus NL)?"
   ]
  },
  {
   "cell_type": "code",
   "execution_count": 59,
   "metadata": {},
   "outputs": [
    {
     "data": {
      "text/plain": [
       "0.013437621202327055"
      ]
     },
     "execution_count": 59,
     "metadata": {},
     "output_type": "execute_result"
    }
   ],
   "source": [
    "mean = np.mean(baseball_WARs['AL']) - np.mean(baseball_WARs['NL'])\n",
    "mean"
   ]
  },
  {
   "cell_type": "markdown",
   "metadata": {},
   "source": [
    "7. Given that we are doing a two-sided test, can we reject the null hypothesis here? What is the p-value of our observed difference?"
   ]
  },
  {
   "cell_type": "code",
   "execution_count": 19,
   "metadata": {},
   "outputs": [
    {
     "name": "stdout",
     "output_type": "stream",
     "text": [
      "p value: 0.4360124056368737\n",
      "Rejection Region: Less than -0.163674862146467\n",
      "Rejection Region: More than 0.16367486214646695\n",
      "AL has better pitching than the NL\n"
     ]
    }
   ],
   "source": [
    "print('p value:', (1 -dist.cdf(mean)))\n",
    "print('Rejection Region: Less than', dist.ppf(0.025))\n",
    "print('Rejection Region: More than', dist.ppf(0.975))\n",
    "print(\"AL has better pitching than the NL\")"
   ]
  },
  {
   "cell_type": "markdown",
   "metadata": {},
   "source": [
    "8. Given that the original assertion was that the AL has **better** pitching than the NL, state the new null and alternate hypotheses for this test."
   ]
  },
  {
   "cell_type": "code",
   "execution_count": 26,
   "metadata": {},
   "outputs": [
    {
     "name": "stdout",
     "output_type": "stream",
     "text": [
      "Null hypotheses: NL has better pitching than the AL\n"
     ]
    }
   ],
   "source": [
    "\n",
    "print(\"Null hypotheses: NL has better pitching than the AL\")\n"
   ]
  },
  {
   "cell_type": "markdown",
   "metadata": {},
   "source": [
    "9. At a signifiance level of 0.05, what is the new rejection region of our distribution? Make a plot highlighting this rejection region in red."
   ]
  },
  {
   "cell_type": "code",
   "execution_count": 39,
   "metadata": {},
   "outputs": [
    {
     "name": "stdout",
     "output_type": "stream",
     "text": [
      "Rejection Region: Less than -0.13731580527014753\n"
     ]
    },
    {
     "data": {
      "text/plain": [
       "Text(0.5, 0.92, 'T-Distribution of Difference Between Samples')"
      ]
     },
     "execution_count": 39,
     "metadata": {},
     "output_type": "execute_result"
    },
    {
     "data": {
      "image/png": "[encoded data removed]",
      "text/plain": [
       "<Figure size 720x720 with 1 Axes>"
      ]
     },
     "metadata": {
      "needs_background": "light"
     },
     "output_type": "display_data"
    }
   ],
   "source": [
    "print('Rejection Region: Less than', dist.ppf(0.05))\n",
    "fig = plt.figure(figsize = (10,10))\n",
    "x = np.linspace(dist.ppf(0.0001),dist.ppf(0.999),100)\n",
    "plt.plot(x,dist.pdf(x))\n",
    "plt.plot([dist.ppf(0.95),dist.ppf(0.95)],[0,dist.pdf(dist.ppf(0.95))], linestyle='dotted', color='#1f77b4')\n",
    "X_fill = np.linspace(dist.ppf(0.95),dist.ppf(0.999))\n",
    "Y = dist.pdf(X_fill)\n",
    "plt.fill_between(X_fill,0,Y,facecolor='red')\n",
    "plt.ylim(bottom = 0)\n",
    "plt.xlabel(\"Difference in Sample Means\")\n",
    "plt.ylabel('Probability Density Function')\n",
    "fig.suptitle('T-Distribution of Difference Between Samples', fontsize = 15 , y= 0.92)\n",
    "\n",
    "\n"
   ]
  },
  {
   "cell_type": "markdown",
   "metadata": {},
   "source": [
    "10. Given that we are doing a one-sided test, can we reject the null hypothesis here? What is the p-value of our observed difference?"
   ]
  },
  {
   "cell_type": "code",
   "execution_count": 40,
   "metadata": {},
   "outputs": [
    {
     "name": "stdout",
     "output_type": "stream",
     "text": [
      "0.4360124056368738\n",
      "No, we can not reject null hypothesis here because NL has better pitching than the AL\n"
     ]
    }
   ],
   "source": [
    "mean = np.mean(baseball_WARs['NL']) - np.mean(baseball_WARs['AL'])\n",
    "mean\n",
    "print(dist.cdf(mean))\n",
    "print(\"No, we can not reject null hypothesis here because NL has better pitching than the AL\")\n"
   ]
  },
  {
   "cell_type": "markdown",
   "metadata": {},
   "source": [
    "11. As you (hopefully) observed, the underlying distributions are skewed, which means that they technically violate the underlying assumption of normality for a two-sided T-test.\n",
    "\n",
    "To address this, do a bootstrap test with 10,000 samples using the method we did in class. Use a random seed of 42 and graph the results (again, compute AL minus NL)"
   ]
  },
  {
   "cell_type": "code",
   "execution_count": 65,
   "metadata": {},
   "outputs": [
    {
     "data": {
      "text/plain": [
       "Text(0.5, 0.92, 'Bootstrap Distribution of Difference Between Samples')"
      ]
     },
     "execution_count": 65,
     "metadata": {},
     "output_type": "execute_result"
    },
    {
     "data": {
      "image/png": "[encoded data removed]",
      "text/plain": [
       "<Figure size 720x720 with 1 Axes>"
      ]
     },
     "metadata": {
      "needs_background": "light"
     },
     "output_type": "display_data"
    }
   ],
   "source": [
    "diff =[]\n",
    "for i in range(10000):\n",
    "    total = baseball_WARs['AL'] + baseball_WARs['NL']\n",
    "    np.random.seed(42)\n",
    "    np.random.shuffle(total)\n",
    "    AL = total[:(len(baseball_WARs['AL']))]\n",
    "    NL = total[(len(baseball_WARs['NL'])):]\n",
    "    diff.append(np.mean(AL) - np.mean(NL))\n",
    "fig = plt.figure(figsize=(10,10))\n",
    "plt.hist(diff, bins=50)\n",
    "plt.xlabel('baseball pitching')\n",
    "plt.ylabel('count')\n",
    "fig.suptitle('Bootstrap Distribution of Difference Between Samples', fontsize=15, y=0.92)\n"
   ]
  },
  {
   "cell_type": "markdown",
   "metadata": {},
   "source": [
    "12. For a one-sided test at a signifiance level of 0.05, calculate the rejection region of this distribution."
   ]
  },
  {
   "cell_type": "code",
   "execution_count": 68,
   "metadata": {},
   "outputs": [
    {
     "name": "stdout",
     "output_type": "stream",
     "text": [
      "0.09450549450549456\n",
      "reject null hypothesis if the value is less than 0.013437621202327055\n"
     ]
    },
    {
     "data": {
      "text/plain": [
       "array([], dtype=float64)"
      ]
     },
     "execution_count": 68,
     "metadata": {},
     "output_type": "execute_result"
    }
   ],
   "source": [
    "print(np.percentile(diff, 5))\n",
    "\n",
    "print(\"reject null hypothesis if the value is less than\", mean)\n",
    "np.array(diff)[np.array(diff) <= mean  ]"
   ]
  },
  {
   "cell_type": "markdown",
   "metadata": {},
   "source": [
    "13. What is the p-value of our observed difference?"
   ]
  },
  {
   "cell_type": "code",
   "execution_count": 69,
   "metadata": {},
   "outputs": [
    {
     "data": {
      "text/plain": [
       "100.0"
      ]
     },
     "execution_count": 69,
     "metadata": {},
     "output_type": "execute_result"
    }
   ],
   "source": [
    "\n",
    "stats.percentileofscore(diff, dist.cdf(mean))"
   ]
  },
  {
   "cell_type": "markdown",
   "metadata": {},
   "source": [
    "BONUS: Say that someone claims to have found a long-lost work by Shakespeare. We want to try and verify if this work is by Shakespeare by comparing the frequency of common words to see if the relative frequencies are similar to what Shakespeare would have written.\n",
    "\n",
    "|Word |  a |an | this  | that |\n",
    "|---|---|---| --- | --- |\n",
    "|King Lear   |  150|  30 | 30 | 90\n",
    "| Lost Work  |  90 |  20 | 10 | 80"
   ]
  },
  {
   "cell_type": "markdown",
   "metadata": {},
   "source": [
    "14. Run a Chi-Squared contingency test on this data to see if these two works could conceivably come from the same distribution. Can we reject the null hypothesis at a significance level of 0.05?"
   ]
  },
  {
   "cell_type": "code",
   "execution_count": 82,
   "metadata": {},
   "outputs": [
    {
     "data": {
      "text/html": [
       "<div>\n",
       "<style scoped>\n",
       "    .dataframe tbody tr th:only-of-type {\n",
       "        vertical-align: middle;\n",
       "    }\n",
       "\n",
       "    .dataframe tbody tr th {\n",
       "        vertical-align: top;\n",
       "    }\n",
       "\n",
       "    .dataframe thead th {\n",
       "        text-align: right;\n",
       "    }\n",
       "</style>\n",
       "<table border=\"1\" class=\"dataframe\">\n",
       "  <thead>\n",
       "    <tr style=\"text-align: right;\">\n",
       "      <th></th>\n",
       "      <th>OV</th>\n",
       "      <th>ONV</th>\n",
       "      <th>TOTAL</th>\n",
       "      <th>expected rate</th>\n",
       "      <th>EV</th>\n",
       "      <th>ENV</th>\n",
       "    </tr>\n",
       "  </thead>\n",
       "  <tbody>\n",
       "    <tr>\n",
       "      <th>0</th>\n",
       "      <td>150</td>\n",
       "      <td>90</td>\n",
       "      <td>240</td>\n",
       "      <td>0.48</td>\n",
       "      <td>144.0</td>\n",
       "      <td>96.0</td>\n",
       "    </tr>\n",
       "    <tr>\n",
       "      <th>1</th>\n",
       "      <td>30</td>\n",
       "      <td>20</td>\n",
       "      <td>50</td>\n",
       "      <td>0.10</td>\n",
       "      <td>30.0</td>\n",
       "      <td>20.0</td>\n",
       "    </tr>\n",
       "    <tr>\n",
       "      <th>2</th>\n",
       "      <td>30</td>\n",
       "      <td>10</td>\n",
       "      <td>40</td>\n",
       "      <td>0.08</td>\n",
       "      <td>24.0</td>\n",
       "      <td>16.0</td>\n",
       "    </tr>\n",
       "    <tr>\n",
       "      <th>3</th>\n",
       "      <td>90</td>\n",
       "      <td>80</td>\n",
       "      <td>170</td>\n",
       "      <td>0.34</td>\n",
       "      <td>102.0</td>\n",
       "      <td>68.0</td>\n",
       "    </tr>\n",
       "  </tbody>\n",
       "</table>\n",
       "</div>"
      ],
      "text/plain": [
       "    OV  ONV  TOTAL  expected rate     EV   ENV\n",
       "0  150   90    240           0.48  144.0  96.0\n",
       "1   30   20     50           0.10   30.0  20.0\n",
       "2   30   10     40           0.08   24.0  16.0\n",
       "3   90   80    170           0.34  102.0  68.0"
      ]
     },
     "execution_count": 82,
     "metadata": {},
     "output_type": "execute_result"
    }
   ],
   "source": [
    "OV = [150,30,30,90]\n",
    "ONV = [90,20,10,80]\n",
    "total = [OV[i] + ONV[i] for i in range (len(OV))]\n",
    "exp_rate = [total[i] / (np.sum(OV) + np.sum(ONV) ) for i in range (len(OV))]\n",
    "df = pd.DataFrame()\n",
    "df['OV'] = OV\n",
    "df['ONV'] = ONV\n",
    "df['TOTAL'] = total\n",
    "df['expected rate'] = exp_rate\n",
    "df['EV'] = df['expected rate'] * df['OV'].sum()\n",
    "df['ENV'] = df['expected rate'] * df['ONV'].sum()\n",
    "df"
   ]
  },
  {
   "cell_type": "code",
   "execution_count": 83,
   "metadata": {},
   "outputs": [
    {
     "name": "stdout",
     "output_type": "stream",
     "text": [
      "Chi-Square Statistic: 7.904411764705885\n"
     ]
    },
    {
     "data": {
      "text/html": [
       "<div>\n",
       "<style scoped>\n",
       "    .dataframe tbody tr th:only-of-type {\n",
       "        vertical-align: middle;\n",
       "    }\n",
       "\n",
       "    .dataframe tbody tr th {\n",
       "        vertical-align: top;\n",
       "    }\n",
       "\n",
       "    .dataframe thead th {\n",
       "        text-align: right;\n",
       "    }\n",
       "</style>\n",
       "<table border=\"1\" class=\"dataframe\">\n",
       "  <thead>\n",
       "    <tr style=\"text-align: right;\">\n",
       "      <th></th>\n",
       "      <th>observed_value</th>\n",
       "      <th>expected_value</th>\n",
       "      <th>diff</th>\n",
       "      <th>diff_over_expected</th>\n",
       "    </tr>\n",
       "  </thead>\n",
       "  <tbody>\n",
       "    <tr>\n",
       "      <th>0</th>\n",
       "      <td>150</td>\n",
       "      <td>144.0</td>\n",
       "      <td>36.0</td>\n",
       "      <td>0.250000</td>\n",
       "    </tr>\n",
       "    <tr>\n",
       "      <th>1</th>\n",
       "      <td>30</td>\n",
       "      <td>30.0</td>\n",
       "      <td>0.0</td>\n",
       "      <td>0.000000</td>\n",
       "    </tr>\n",
       "    <tr>\n",
       "      <th>2</th>\n",
       "      <td>30</td>\n",
       "      <td>24.0</td>\n",
       "      <td>36.0</td>\n",
       "      <td>1.500000</td>\n",
       "    </tr>\n",
       "    <tr>\n",
       "      <th>3</th>\n",
       "      <td>90</td>\n",
       "      <td>102.0</td>\n",
       "      <td>144.0</td>\n",
       "      <td>1.411765</td>\n",
       "    </tr>\n",
       "    <tr>\n",
       "      <th>4</th>\n",
       "      <td>90</td>\n",
       "      <td>96.0</td>\n",
       "      <td>36.0</td>\n",
       "      <td>0.375000</td>\n",
       "    </tr>\n",
       "    <tr>\n",
       "      <th>5</th>\n",
       "      <td>20</td>\n",
       "      <td>20.0</td>\n",
       "      <td>0.0</td>\n",
       "      <td>0.000000</td>\n",
       "    </tr>\n",
       "    <tr>\n",
       "      <th>6</th>\n",
       "      <td>10</td>\n",
       "      <td>16.0</td>\n",
       "      <td>36.0</td>\n",
       "      <td>2.250000</td>\n",
       "    </tr>\n",
       "    <tr>\n",
       "      <th>7</th>\n",
       "      <td>80</td>\n",
       "      <td>68.0</td>\n",
       "      <td>144.0</td>\n",
       "      <td>2.117647</td>\n",
       "    </tr>\n",
       "  </tbody>\n",
       "</table>\n",
       "</div>"
      ],
      "text/plain": [
       "   observed_value  expected_value   diff  diff_over_expected\n",
       "0             150           144.0   36.0            0.250000\n",
       "1              30            30.0    0.0            0.000000\n",
       "2              30            24.0   36.0            1.500000\n",
       "3              90           102.0  144.0            1.411765\n",
       "4              90            96.0   36.0            0.375000\n",
       "5              20            20.0    0.0            0.000000\n",
       "6              10            16.0   36.0            2.250000\n",
       "7              80            68.0  144.0            2.117647"
      ]
     },
     "execution_count": 83,
     "metadata": {},
     "output_type": "execute_result"
    }
   ],
   "source": [
    "df_all = pd.DataFrame()\n",
    "df_all['observed_value'] = np.hstack([df['OV'], df['ONV']])\n",
    "df_all['expected_value'] = np.hstack([df['EV'], df['ENV']])\n",
    "df_all['diff'] = np.power(df_all['observed_value'] - df_all['expected_value'], 2)\n",
    "df_all['diff_over_expected']= df_all['diff'] / df_all['expected_value']\n",
    "print('Chi-Square Statistic:', df_all['diff_over_expected'].sum())\n",
    "\n",
    "df_all"
   ]
  },
  {
   "cell_type": "markdown",
   "metadata": {},
   "source": [
    "15. How many degrees of freedom are there in the Chi-Squared distribution?"
   ]
  },
  {
   "cell_type": "code",
   "execution_count": 89,
   "metadata": {},
   "outputs": [
    {
     "name": "stdout",
     "output_type": "stream",
     "text": [
      "Null hypothesis: frequency of common words are are similar to what Shakespeare would have written\n",
      "(n - 1)*(m - 1) =  3\n"
     ]
    }
   ],
   "source": [
    "print(\"Null hypothesis: frequency of common words are are similar to what Shakespeare would have written\")\n",
    "print(\"(n - 1)*(m - 1) = \", (2-1) * (4-1))\n"
   ]
  },
  {
   "cell_type": "markdown",
   "metadata": {},
   "source": [
    "16. Given the number of degrees of freedom, at what level can we reject the n ull hypothesis?"
   ]
  },
  {
   "cell_type": "code",
   "execution_count": 90,
   "metadata": {},
   "outputs": [
    {
     "name": "stdout",
     "output_type": "stream",
     "text": [
      "Rejection Region: Greater than 2.7954834829151074 3\n"
     ]
    }
   ],
   "source": [
    "dist = stats.chi(df = 3)\n",
    "print(\"Rejection Region: Greater than\", dist.ppf(0.95), 3)"
   ]
  },
  {
   "cell_type": "code",
   "execution_count": null,
   "metadata": {},
   "outputs": [],
   "source": []
  }
 ],
 "metadata": {
  "kernelspec": {
   "display_name": "Python 3",
   "language": "python",
   "name": "python3"
  },
  "language_info": {
   "codemirror_mode": {
    "name": "ipython",
    "version": 3
   },
   "file_extension": ".py",
   "mimetype": "text/x-python",
   "name": "python",
   "nbconvert_exporter": "python",
   "pygments_lexer": "ipython3",
   "version": "3.7.3"
  }
 },
 "nbformat": 4,
 "nbformat_minor": 2
}
