{
 "cells": [
  {
   "cell_type": "code",
   "execution_count": 1,
   "metadata": {},
   "outputs": [],
   "source": [
    "import scipy.stats as stats\n",
    "import numpy as np\n",
    "import seaborn as sns\n",
    "%matplotlib inline"
   ]
  },
  {
   "cell_type": "markdown",
   "metadata": {},
   "source": [
    "1) A tobacco company claims that the amount of nicotine in its cigarettes is a random variable with mean 2.2 mg and standard deviation .3 mg. \n",
    "\n",
    "a) What is the probability that a randomly chosen cigarette has more than 2.7 mg of nicotine?"
   ]
  },
  {
   "cell_type": "code",
   "execution_count": 20,
   "metadata": {},
   "outputs": [
    {
     "data": {
      "text/plain": [
       "0.047790352272814696"
      ]
     },
     "execution_count": 20,
     "metadata": {},
     "output_type": "execute_result"
    }
   ],
   "source": [
    "dist= stats.norm(loc=2.2,scale=0.3)\n",
    "1- dist.cdf(2.7)"
   ]
  },
  {
   "cell_type": "markdown",
   "metadata": {},
   "source": [
    "b) What is the probability that the sample mean of 100 randomly chosen cigarettes would be more than 2.7 mg of nicotine?"
   ]
  },
  {
   "cell_type": "code",
   "execution_count": 22,
   "metadata": {},
   "outputs": [
    {
     "data": {
      "text/plain": [
       "0.0"
      ]
     },
     "execution_count": 22,
     "metadata": {},
     "output_type": "execute_result"
    }
   ],
   "source": [
    "\n",
    "1- stats.norm(loc=2.2, scale=0.3 / np.sqrt(100)).cdf(2.7)"
   ]
  },
  {
   "cell_type": "markdown",
   "metadata": {},
   "source": [
    "2) An instructor knows from past experience that student exam scores have mean\n",
    "77 and standard deviation 15. At present the instructor is teaching two separate\n",
    "classes — one of size 25 and the other of size 64.\n",
    "\n",
    "a) What is the probability that a randomly chosen student has a test score between 72 and 82?"
   ]
  },
  {
   "cell_type": "code",
   "execution_count": 26,
   "metadata": {},
   "outputs": [
    {
     "data": {
      "text/plain": [
       "0.26111731963647267"
      ]
     },
     "execution_count": 26,
     "metadata": {},
     "output_type": "execute_result"
    }
   ],
   "source": [
    "dist = stats.norm(loc = 77, scale= 15)\n",
    "dist.cdf(82)-dist.cdf(72)\n"
   ]
  },
  {
   "cell_type": "markdown",
   "metadata": {},
   "source": [
    "b) Approximate the probability that the average test score in the class of size 25 lies between 72 and 82."
   ]
  },
  {
   "cell_type": "code",
   "execution_count": 27,
   "metadata": {},
   "outputs": [
    {
     "data": {
      "text/plain": [
       "0.9044192954543706"
      ]
     },
     "execution_count": 27,
     "metadata": {},
     "output_type": "execute_result"
    }
   ],
   "source": [
    "dist = stats.norm(loc=77, scale=15 / np.sqrt(25))\n",
    "dist.cdf(82) - dist.cdf(72)\n"
   ]
  },
  {
   "cell_type": "markdown",
   "metadata": {},
   "source": [
    "c) Repeat part (a) for a class of size 64."
   ]
  },
  {
   "cell_type": "code",
   "execution_count": 28,
   "metadata": {},
   "outputs": [
    {
     "data": {
      "text/plain": [
       "0.9923392388648204"
      ]
     },
     "execution_count": 28,
     "metadata": {},
     "output_type": "execute_result"
    }
   ],
   "source": [
    "dist = stats.norm(loc=77, scale=15 / np.sqrt(64))\n",
    "dist.cdf(82) - dist.cdf(72)"
   ]
  },
  {
   "cell_type": "markdown",
   "metadata": {},
   "source": [
    "c) Suppose the average scores in the two classes are 76 and 83. Which class, the one of size 25 or the one of size 64, do you think was more likely to have averaged 83?"
   ]
  },
  {
   "cell_type": "code",
   "execution_count": 33,
   "metadata": {},
   "outputs": [
    {
     "name": "stdout",
     "output_type": "stream",
     "text": [
      "class size 25: 76.0\n",
      "class size 64: 83.0\n"
     ]
    }
   ],
   "source": [
    "cls1 = stats.norm(loc = 76, scale = 15 / np.sqrt(25))\n",
    "print(\"class size 25:\",cls1.mean())\n",
    "cls2 = stats.norm(loc = 83, scale= 15/np.sqrt(64))\n",
    "print(\"class size 64:\",cls2.mean())"
   ]
  },
  {
   "cell_type": "markdown",
   "metadata": {},
   "source": [
    "25, as 83 is in the 97th percentile of that distribution as compared to being in the 99th+ percentile of the distribution of the class of 64."
   ]
  },
  {
   "cell_type": "code",
   "execution_count": 34,
   "metadata": {},
   "outputs": [
    {
     "name": "stdout",
     "output_type": "stream",
     "text": [
      "81.64238082445375\n",
      "87.36190226382658\n"
     ]
    }
   ],
   "source": [
    "print(cls1.ppf(0.97))\n",
    "print(cls2.ppf(0.99))"
   ]
  },
  {
   "cell_type": "markdown",
   "metadata": {},
   "source": [
    "3) If X is binomial with parameters n = 150, p = .6, compute the exact value of\n",
    "P{X ≤ 80} and compare with its normal approximation both (a) making use of\n",
    "and (b) not making use of the continuity correction."
   ]
  },
  {
   "cell_type": "code",
   "execution_count": 32,
   "metadata": {},
   "outputs": [
    {
     "name": "stdout",
     "output_type": "stream",
     "text": [
      "Binomial distribution 0.05745956249718806\n",
      "Normal distribution: 0.0477903522728147\n"
     ]
    }
   ],
   "source": [
    "dist = stats.binom(n= 150, p =0.6)\n",
    "print(\"Binomial distribution\",dist.cdf(80))\n",
    "N = stats.norm(loc = dist.mean(), scale= dist.std())\n",
    "print(\"Normal distribution:\",N.cdf(80))"
   ]
  },
  {
   "cell_type": "markdown",
   "metadata": {},
   "source": [
    "4) Using the method we used at the end the workbook (running 10,000 simulations and finding the mean of each) for a random distribution, re-create the central limit theorem. Do this by:  \n",
    "    a) Picking a distribution (either random or discrete) **NOT THE EXPONENTIAL DISTRIBUTION**   \n",
    "    b) Finding the mean and standard deviation of the distribution.  \n",
    "    c) Picking a sample size that you want to take the mean of (what sample size should you pick?)  \n",
    "    d) Running 10,000 simulations where you find the mean of each sample.  \n",
    "    e) Finding the mean and standard deviation of your result and comparing it to the mean and standard deviation of your original distribution, taking the sample size into account.  \n",
    "    f) Plotting your result and confirming that it looks like a normal distribution.  "
   ]
  },
  {
   "cell_type": "code",
   "execution_count": null,
   "metadata": {},
   "outputs": [],
   "source": [
    "#a)Binomial distribution"
   ]
  },
  {
   "cell_type": "code",
   "execution_count": 49,
   "metadata": {},
   "outputs": [
    {
     "name": "stdout",
     "output_type": "stream",
     "text": [
      "mean: 0.75 standard deviation 0.4330127018922193\n"
     ]
    }
   ],
   "source": [
    "np.random.seed(42)\n",
    "dist = stats.bernoulli(p=0.75)\n",
    "print(\"mean:\",dist.mean(),\"standard deviation\",dist.std())"
   ]
  },
  {
   "cell_type": "code",
   "execution_count": 50,
   "metadata": {},
   "outputs": [],
   "source": [
    "#c)100"
   ]
  },
  {
   "cell_type": "code",
   "execution_count": 65,
   "metadata": {},
   "outputs": [
    {
     "data": {
      "text/plain": [
       "0.75"
      ]
     },
     "execution_count": 65,
     "metadata": {},
     "output_type": "execute_result"
    }
   ],
   "source": [
    "#d)\n",
    "successes = np.array([])\n",
    "for i in range(10000):\n",
    "    successes = np.append(successes, dist.rvs(100).sum())\n",
    "success_rate = successes/100\n",
    "success_rate.mean()"
   ]
  },
  {
   "cell_type": "code",
   "execution_count": 62,
   "metadata": {},
   "outputs": [
    {
     "name": "stdout",
     "output_type": "stream",
     "text": [
      "0.75\n",
      "0.04330127018922193\n",
      "0.750757\n",
      "0.04318561046228247\n"
     ]
    }
   ],
   "source": [
    "#e)\n",
    "print(dist.mean())\n",
    "print(dist.std()/ np.sqrt(100))\n",
    "print(success_rate.mean())\n",
    "print(success_rate.std())\n"
   ]
  },
  {
   "cell_type": "code",
   "execution_count": 57,
   "metadata": {},
   "outputs": [
    {
     "data": {
      "text/plain": [
       "<matplotlib.axes._subplots.AxesSubplot at 0x23551c18d68>"
      ]
     },
     "execution_count": 57,
     "metadata": {},
     "output_type": "execute_result"
    },
    {
     "data": {
      "image/png": "[encoded data removed]",
      "text/plain": [
       "<Figure size 432x288 with 1 Axes>"
      ]
     },
     "metadata": {
      "needs_background": "light"
     },
     "output_type": "display_data"
    }
   ],
   "source": [
    "#f)\n",
    "sns.kdeplot(success_rate)"
   ]
  },
  {
   "cell_type": "code",
   "execution_count": null,
   "metadata": {},
   "outputs": [],
   "source": []
  }
 ],
 "metadata": {
  "kernelspec": {
   "display_name": "Python 3",
   "language": "python",
   "name": "python3"
  },
  "language_info": {
   "codemirror_mode": {
    "name": "ipython",
    "version": 3
   },
   "file_extension": ".py",
   "mimetype": "text/x-python",
   "name": "python",
   "nbconvert_exporter": "python",
   "pygments_lexer": "ipython3",
   "version": "3.7.3"
  }
 },
 "nbformat": 4,
 "nbformat_minor": 2
}
